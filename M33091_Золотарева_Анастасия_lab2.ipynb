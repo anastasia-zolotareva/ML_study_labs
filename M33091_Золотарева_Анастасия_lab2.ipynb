{
  "nbformat": 4,
  "nbformat_minor": 0,
  "metadata": {
    "hide_input": false,
    "kernelspec": {
      "display_name": "Python 3",
      "language": "python",
      "name": "python3"
    },
    "language_info": {
      "codemirror_mode": {
        "name": "ipython",
        "version": 3
      },
      "file_extension": ".py",
      "mimetype": "text/x-python",
      "name": "python",
      "nbconvert_exporter": "python",
      "pygments_lexer": "ipython3",
      "version": "3.7.1"
    },
    "toc": {
      "base_numbering": 1,
      "nav_menu": {},
      "number_sections": true,
      "sideBar": true,
      "skip_h1_title": false,
      "title_cell": "Table of Contents",
      "title_sidebar": "Contents",
      "toc_cell": true,
      "toc_position": {},
      "toc_section_display": true,
      "toc_window_display": false
    },
    "varInspector": {
      "cols": {
        "lenName": 16,
        "lenType": 16,
        "lenVar": 40
      },
      "kernels_config": {
        "python": {
          "delete_cmd_postfix": "",
          "delete_cmd_prefix": "del ",
          "library": "var_list.py",
          "varRefreshCmd": "print(var_dic_list())"
        },
        "r": {
          "delete_cmd_postfix": ") ",
          "delete_cmd_prefix": "rm(",
          "library": "var_list.r",
          "varRefreshCmd": "cat(var_dic_list()) "
        }
      },
      "types_to_exclude": [
        "module",
        "function",
        "builtin_function_or_method",
        "instance",
        "_Feature"
      ],
      "window_display": false
    },
    "colab": {
      "provenance": [],
      "toc_visible": true
    }
  },
  "cells": [
    {
      "cell_type": "code",
      "metadata": {
        "ExecuteTime": {
          "end_time": "2020-04-23T10:16:05.965275Z",
          "start_time": "2020-04-23T10:16:05.312704Z"
        },
        "id": "bZ7J0si68JdT"
      },
      "source": [
        "import pandas as pd\n",
        "import numpy as np"
      ],
      "execution_count": null,
      "outputs": []
    },
    {
      "cell_type": "markdown",
      "metadata": {
        "id": "xjvL0IIG8Jd0"
      },
      "source": [
        "## Задание 0\n"
      ]
    },
    {
      "cell_type": "markdown",
      "metadata": {
        "id": "yaSxXHvxO0qo"
      },
      "source": [
        "Для всех  заданий будем использовать обезличенные транзакционные банковские данные. Для этого считайте в переменные **tr_mcc_codes, tr_types, transactions и gender_train** из одноимённых таблиц из папки [data](https://drive.google.com/drive/folders/1YAMe7MiTxA-RSSd8Ex2p-L0Dspe6Gs4L).\n",
        "\n",
        "Для таблицы transactions используйте только первые n=1000000 строк. При чтении файлов обратите внимание на разделители внутри каждого из файлов - они могут различаться!"
      ]
    },
    {
      "cell_type": "markdown",
      "metadata": {
        "id": "oP3lX9xC8Jd8"
      },
      "source": [
        "###  Описание данных\n",
        "#### Таблица ```transactions.csv```\n",
        "##### Описание\n",
        "Таблица содержит историю транзакций клиентов банка за один год и три месяца.\n",
        "\n",
        "##### Формат данных\n",
        "\n",
        "```\n",
        "customer_id,tr_datetime,mcc_code,tr_type,amount,term_id\n",
        "111111,15 01:40:52,1111,1000,-5224,111111\n",
        "111112,15 15:18:32,3333,2000,-100,11122233\n",
        "...\n",
        "```\n",
        "##### Описание полей\n",
        "\n",
        " - ```customer_id``` — идентификатор клиента;\n",
        " - ```tr_datetime``` — день и время совершения транзакции (дни нумеруются с начала данных);\n",
        " - ```mcc_code``` — mcc-код транзакции;\n",
        " - ```tr_type``` — тип транзакции;\n",
        " - ```amount``` — сумма транзакции в условных единицах со знаком; ```+``` — начисление средств клиенту (приходная транзакция), ```-``` — списание средств (расходная транзакция);\n",
        " - ```term_id``` — идентификатор терминала;\n",
        "\n",
        "\n",
        "#### Таблица ```gender_train.csv```\n",
        "\n",
        "##### Описание\n",
        "Данная таблица содержит информацию по полу для части клиентов, для которых он известен. Для остальных клиентов пол неизвестен.\n",
        "\n",
        "##### Формат данных\n",
        "```\n",
        "customer_id,gender\n",
        "111111,0\n",
        "111112,1\n",
        "...\n",
        "```\n",
        "\n",
        "##### Описание полей\n",
        " - ```customer_id``` — идентификатор клиента;\n",
        " - ```gender``` — пол клиента;\n",
        "\n",
        "### Таблица ```tr_mcc_codes.csv```\n",
        "\n",
        "##### Описание\n",
        "Данная таблица содержит описание mcc-кодов транзакций.\n",
        "\n",
        "##### Формат данных\n",
        "```\n",
        "mcc_code;mcc_description\n",
        "1000;словесное описание mcc-кода 1000\n",
        "2000;словесное описание mcc-кода 2000\n",
        "...\n",
        "```\n",
        "\n",
        "##### Описание полей\n",
        " - ```mcc_code``` – mcc-код транзакции;\n",
        " - ```mcc_description``` — описание mcc-кода транзакции.\n",
        "\n",
        "#### Таблица ```tr_types.csv```\n",
        "\n",
        "##### Описание\n",
        "Данная таблица содержит описание типов транзакций.\n",
        "\n",
        "##### Формат данных\n",
        "```\n",
        "tr_type;tr_description\n",
        "1000;словесное описание типа транзакции 1000\n",
        "2000;словесное описание типа транзакции 2000\n",
        "...\n",
        "```\n",
        "\n",
        "##### Описание полей\n",
        " - ```tr_type``` – тип транзакции;\n",
        " - ```tr_description``` — описание типа транзакции;"
      ]
    },
    {
      "cell_type": "code",
      "source": [
        "# read tables\n",
        "%%capture\n",
        "!wget https://www.dropbox.com/s/3jffjubrv2re97c/tr_mcc_codes.csv\n",
        "!wget https://www.dropbox.com/s/vqjac7remvnn0rf/tr_types.csv\n",
        "!wget https://www.dropbox.com/s/8q9ppkh8pgzxthy/transactions.csv\n",
        "!wget https://www.dropbox.com/s/rroa45n9sookiro/gender_train.csv\n",
        "\n",
        "tr_mcc_codes = pd.read_csv(\"tr_mcc_codes.csv\", sep=\";\")\n",
        "tr_types = pd.read_csv(\"tr_types.csv\", sep=\";\")\n",
        "transactions = pd.read_csv(\"transactions.csv\", sep=\",\", nrows=1000000)\n",
        "gender_train = pd.read_csv(\"gender_train.csv\", sep=\",\")"
      ],
      "metadata": {
        "id": "nJ1clZUOlqlO"
      },
      "execution_count": null,
      "outputs": []
    },
    {
      "cell_type": "markdown",
      "metadata": {
        "id": "04CYsBKz8JeB"
      },
      "source": [
        "\n",
        "Задания 1-4 делаются без использования merge!\n",
        "\n",
        "## Задание 1\n",
        "\n"
      ]
    },
    {
      "cell_type": "markdown",
      "metadata": {
        "id": "1hcrfwsYN_Yz"
      },
      "source": [
        "1. Для столбца tr_type датафрейма transactions выберите произвольные 1000 строк с помощью метода sample\n",
        "2. В полученной на предыдущем этапе подвыборке найдите долю транзакций (стобец tr_description в датасете tr_types), в которой содержится подстрока 'POS' или 'ATM'\n"
      ]
    },
    {
      "cell_type": "code",
      "source": [
        "chosen_tr_type = transactions.sample(1000)\n",
        "chosen_tr_type['tr_type']"
      ],
      "metadata": {
        "colab": {
          "base_uri": "https://localhost:8080/"
        },
        "id": "uA2kgCW-nVeN",
        "outputId": "bcb03bf0-eb5a-4309-bdf2-a8cb6e81ca91"
      },
      "execution_count": null,
      "outputs": [
        {
          "output_type": "execute_result",
          "data": {
            "text/plain": [
              "366651    4011\n",
              "77265     2010\n",
              "639240    7010\n",
              "555334    2010\n",
              "523648    2010\n",
              "          ... \n",
              "906600    1030\n",
              "271823    1010\n",
              "43711     2010\n",
              "720203    7070\n",
              "840999    7070\n",
              "Name: tr_type, Length: 1000, dtype: int64"
            ]
          },
          "metadata": {},
          "execution_count": 3
        }
      ]
    },
    {
      "cell_type": "code",
      "source": [
        "pos_str = tr_types[tr_types['tr_description'].str.contains('POS')]\n",
        "atm_str = tr_types[tr_types['tr_description'].str.contains('ATM')]\n",
        "\n",
        "pos_str_sum = chosen_tr_type['tr_type'].isin(pos_str['tr_type']).values.sum()\n",
        "atm_str_sum = chosen_tr_type['tr_type'].isin(atm_str['tr_type']).values.sum()\n",
        "\n",
        "prop_chosen_lines = (pos_str_sum + atm_str_sum) / 1000\n",
        "prop_chosen_lines"
      ],
      "metadata": {
        "colab": {
          "base_uri": "https://localhost:8080/"
        },
        "id": "kBvqQcIWn9EB",
        "outputId": "51eba7a1-9a89-4d41-9f43-f813dae9b6fc"
      },
      "execution_count": null,
      "outputs": [
        {
          "output_type": "execute_result",
          "data": {
            "text/plain": [
              "0.355"
            ]
          },
          "metadata": {},
          "execution_count": 4
        }
      ]
    },
    {
      "cell_type": "markdown",
      "metadata": {
        "id": "fiZBDIZt8JeS"
      },
      "source": [
        "## Задание 2\n"
      ]
    },
    {
      "cell_type": "markdown",
      "metadata": {
        "id": "FFKeBUThOCrz"
      },
      "source": [
        "1. Для столбца tr_type датафрейма transactions посчитайте частоту встречаемости всех типов транзакций tr_type в transactions.\n",
        "2. Выведите топ-10 транзакций по частоте встречаемости (вывести для них tr_description тоже)."
      ]
    },
    {
      "cell_type": "code",
      "source": [
        "freq_tr_types = transactions.groupby(['tr_type']).size()\n",
        "freq_tr_types"
      ],
      "metadata": {
        "colab": {
          "base_uri": "https://localhost:8080/"
        },
        "id": "j7TxLef5Gcp3",
        "outputId": "680dd4bd-ad08-4f41-ae4e-7b00bd6412eb"
      },
      "execution_count": null,
      "outputs": [
        {
          "output_type": "execute_result",
          "data": {
            "text/plain": [
              "tr_type\n",
              "1000         8\n",
              "1010    231117\n",
              "1030    118975\n",
              "1100     15476\n",
              "1110    137658\n",
              "         ...  \n",
              "7074       505\n",
              "7075        12\n",
              "8100         2\n",
              "8145         8\n",
              "8146         3\n",
              "Length: 72, dtype: int64"
            ]
          },
          "metadata": {},
          "execution_count": 38
        }
      ]
    },
    {
      "cell_type": "code",
      "source": [
        "tmp = tr_types.copy().set_index('tr_type')\n",
        "tr_top10 = tmp.loc[freq_tr_types.nlargest(10).index[0:10]]\n",
        "tmp_df = pd.DataFrame({'tr_freq': freq_tr_types.nlargest(10),'tr_description': tr_top10.squeeze()})\n",
        "tmp_df"
      ],
      "metadata": {
        "colab": {
          "base_uri": "https://localhost:8080/",
          "height": 394
        },
        "id": "zfw8eIj4HRiZ",
        "outputId": "4c921e74-c38a-41a9-e686-c2096e2de77b"
      },
      "execution_count": null,
      "outputs": [
        {
          "output_type": "execute_result",
          "data": {
            "text/plain": [
              "         tr_freq                                     tr_description\n",
              "tr_type                                                            \n",
              "1010      231117                              Покупка. POS ТУ СБ РФ\n",
              "2010      151166              Выдача наличных в АТМ Сбербанк России\n",
              "7070      149006  Перевод на карту (с карты) через Мобильный бан...\n",
              "1110      137658                             Покупка. POS ТУ Россия\n",
              "1030      118975                     Оплата услуги. Банкоматы СБ РФ\n",
              "2370       49830  Списание с карты на карту по операции <перевод...\n",
              "7010       28972       Взнос наличных через АТМ (в своем тер.банке)\n",
              "7030       26078  Перевод на карту (с карты) через АТМ (в предел...\n",
              "7071       15781  Перевод на карту (с карты) через Мобильный бан...\n",
              "1100       15476                                Покупка. ТУ  Россия"
            ],
            "text/html": [
              "\n",
              "  <div id=\"df-b06c9b44-a53e-483f-a43e-8f6f15f9c2a9\">\n",
              "    <div class=\"colab-df-container\">\n",
              "      <div>\n",
              "<style scoped>\n",
              "    .dataframe tbody tr th:only-of-type {\n",
              "        vertical-align: middle;\n",
              "    }\n",
              "\n",
              "    .dataframe tbody tr th {\n",
              "        vertical-align: top;\n",
              "    }\n",
              "\n",
              "    .dataframe thead th {\n",
              "        text-align: right;\n",
              "    }\n",
              "</style>\n",
              "<table border=\"1\" class=\"dataframe\">\n",
              "  <thead>\n",
              "    <tr style=\"text-align: right;\">\n",
              "      <th></th>\n",
              "      <th>tr_freq</th>\n",
              "      <th>tr_description</th>\n",
              "    </tr>\n",
              "    <tr>\n",
              "      <th>tr_type</th>\n",
              "      <th></th>\n",
              "      <th></th>\n",
              "    </tr>\n",
              "  </thead>\n",
              "  <tbody>\n",
              "    <tr>\n",
              "      <th>1010</th>\n",
              "      <td>231117</td>\n",
              "      <td>Покупка. POS ТУ СБ РФ</td>\n",
              "    </tr>\n",
              "    <tr>\n",
              "      <th>2010</th>\n",
              "      <td>151166</td>\n",
              "      <td>Выдача наличных в АТМ Сбербанк России</td>\n",
              "    </tr>\n",
              "    <tr>\n",
              "      <th>7070</th>\n",
              "      <td>149006</td>\n",
              "      <td>Перевод на карту (с карты) через Мобильный бан...</td>\n",
              "    </tr>\n",
              "    <tr>\n",
              "      <th>1110</th>\n",
              "      <td>137658</td>\n",
              "      <td>Покупка. POS ТУ Россия</td>\n",
              "    </tr>\n",
              "    <tr>\n",
              "      <th>1030</th>\n",
              "      <td>118975</td>\n",
              "      <td>Оплата услуги. Банкоматы СБ РФ</td>\n",
              "    </tr>\n",
              "    <tr>\n",
              "      <th>2370</th>\n",
              "      <td>49830</td>\n",
              "      <td>Списание с карты на карту по операции &lt;перевод...</td>\n",
              "    </tr>\n",
              "    <tr>\n",
              "      <th>7010</th>\n",
              "      <td>28972</td>\n",
              "      <td>Взнос наличных через АТМ (в своем тер.банке)</td>\n",
              "    </tr>\n",
              "    <tr>\n",
              "      <th>7030</th>\n",
              "      <td>26078</td>\n",
              "      <td>Перевод на карту (с карты) через АТМ (в предел...</td>\n",
              "    </tr>\n",
              "    <tr>\n",
              "      <th>7071</th>\n",
              "      <td>15781</td>\n",
              "      <td>Перевод на карту (с карты) через Мобильный бан...</td>\n",
              "    </tr>\n",
              "    <tr>\n",
              "      <th>1100</th>\n",
              "      <td>15476</td>\n",
              "      <td>Покупка. ТУ  Россия</td>\n",
              "    </tr>\n",
              "  </tbody>\n",
              "</table>\n",
              "</div>\n",
              "      <button class=\"colab-df-convert\" onclick=\"convertToInteractive('df-b06c9b44-a53e-483f-a43e-8f6f15f9c2a9')\"\n",
              "              title=\"Convert this dataframe to an interactive table.\"\n",
              "              style=\"display:none;\">\n",
              "        \n",
              "  <svg xmlns=\"http://www.w3.org/2000/svg\" height=\"24px\"viewBox=\"0 0 24 24\"\n",
              "       width=\"24px\">\n",
              "    <path d=\"M0 0h24v24H0V0z\" fill=\"none\"/>\n",
              "    <path d=\"M18.56 5.44l.94 2.06.94-2.06 2.06-.94-2.06-.94-.94-2.06-.94 2.06-2.06.94zm-11 1L8.5 8.5l.94-2.06 2.06-.94-2.06-.94L8.5 2.5l-.94 2.06-2.06.94zm10 10l.94 2.06.94-2.06 2.06-.94-2.06-.94-.94-2.06-.94 2.06-2.06.94z\"/><path d=\"M17.41 7.96l-1.37-1.37c-.4-.4-.92-.59-1.43-.59-.52 0-1.04.2-1.43.59L10.3 9.45l-7.72 7.72c-.78.78-.78 2.05 0 2.83L4 21.41c.39.39.9.59 1.41.59.51 0 1.02-.2 1.41-.59l7.78-7.78 2.81-2.81c.8-.78.8-2.07 0-2.86zM5.41 20L4 18.59l7.72-7.72 1.47 1.35L5.41 20z\"/>\n",
              "  </svg>\n",
              "      </button>\n",
              "      \n",
              "  <style>\n",
              "    .colab-df-container {\n",
              "      display:flex;\n",
              "      flex-wrap:wrap;\n",
              "      gap: 12px;\n",
              "    }\n",
              "\n",
              "    .colab-df-convert {\n",
              "      background-color: #E8F0FE;\n",
              "      border: none;\n",
              "      border-radius: 50%;\n",
              "      cursor: pointer;\n",
              "      display: none;\n",
              "      fill: #1967D2;\n",
              "      height: 32px;\n",
              "      padding: 0 0 0 0;\n",
              "      width: 32px;\n",
              "    }\n",
              "\n",
              "    .colab-df-convert:hover {\n",
              "      background-color: #E2EBFA;\n",
              "      box-shadow: 0px 1px 2px rgba(60, 64, 67, 0.3), 0px 1px 3px 1px rgba(60, 64, 67, 0.15);\n",
              "      fill: #174EA6;\n",
              "    }\n",
              "\n",
              "    [theme=dark] .colab-df-convert {\n",
              "      background-color: #3B4455;\n",
              "      fill: #D2E3FC;\n",
              "    }\n",
              "\n",
              "    [theme=dark] .colab-df-convert:hover {\n",
              "      background-color: #434B5C;\n",
              "      box-shadow: 0px 1px 3px 1px rgba(0, 0, 0, 0.15);\n",
              "      filter: drop-shadow(0px 1px 2px rgba(0, 0, 0, 0.3));\n",
              "      fill: #FFFFFF;\n",
              "    }\n",
              "  </style>\n",
              "\n",
              "      <script>\n",
              "        const buttonEl =\n",
              "          document.querySelector('#df-b06c9b44-a53e-483f-a43e-8f6f15f9c2a9 button.colab-df-convert');\n",
              "        buttonEl.style.display =\n",
              "          google.colab.kernel.accessAllowed ? 'block' : 'none';\n",
              "\n",
              "        async function convertToInteractive(key) {\n",
              "          const element = document.querySelector('#df-b06c9b44-a53e-483f-a43e-8f6f15f9c2a9');\n",
              "          const dataTable =\n",
              "            await google.colab.kernel.invokeFunction('convertToInteractive',\n",
              "                                                     [key], {});\n",
              "          if (!dataTable) return;\n",
              "\n",
              "          const docLinkHtml = 'Like what you see? Visit the ' +\n",
              "            '<a target=\"_blank\" href=https://colab.research.google.com/notebooks/data_table.ipynb>data table notebook</a>'\n",
              "            + ' to learn more about interactive tables.';\n",
              "          element.innerHTML = '';\n",
              "          dataTable['output_type'] = 'display_data';\n",
              "          await google.colab.output.renderOutput(dataTable, element);\n",
              "          const docLink = document.createElement('div');\n",
              "          docLink.innerHTML = docLinkHtml;\n",
              "          element.appendChild(docLink);\n",
              "        }\n",
              "      </script>\n",
              "    </div>\n",
              "  </div>\n",
              "  "
            ]
          },
          "metadata": {},
          "execution_count": 68
        }
      ]
    },
    {
      "cell_type": "markdown",
      "metadata": {
        "id": "mktm_JeA8JeX"
      },
      "source": [
        "## Задание 3\n",
        "1. В датафрейме transactions найдите клиента с максимальной суммой приходов на карту\n",
        "2. В датафрейме transactions найдите клиента с максимальной суммой расходов по карте\n",
        "3. Найдите модуль разницы для этих клиентов между суммой расходов и суммой приходов"
      ]
    },
    {
      "cell_type": "code",
      "source": [
        "larg_inc = transactions[transactions.amount > 0].groupby(['customer_id'])['amount'].sum().nlargest(1)\n",
        "larg_inc"
      ],
      "metadata": {
        "colab": {
          "base_uri": "https://localhost:8080/"
        },
        "id": "DUilisk4I4PS",
        "outputId": "fac5bcea-48db-4e05-b928-bbd71be9dff8"
      },
      "execution_count": null,
      "outputs": [
        {
          "output_type": "execute_result",
          "data": {
            "text/plain": [
              "customer_id\n",
              "70780820    1.248115e+09\n",
              "Name: amount, dtype: float64"
            ]
          },
          "metadata": {},
          "execution_count": 74
        }
      ]
    },
    {
      "cell_type": "code",
      "source": [
        "larg_spend = transactions[transactions.amount < 0].groupby(['customer_id'])['amount'].sum().nsmallest(1)\n",
        "larg_spend"
      ],
      "metadata": {
        "colab": {
          "base_uri": "https://localhost:8080/"
        },
        "id": "xC-2C4eQClrQ",
        "outputId": "4f60f04d-bfa4-473b-bd28-85de34004bd0"
      },
      "execution_count": null,
      "outputs": [
        {
          "output_type": "execute_result",
          "data": {
            "text/plain": [
              "customer_id\n",
              "70780820   -1.249952e+09\n",
              "Name: amount, dtype: float64"
            ]
          },
          "metadata": {},
          "execution_count": 75
        }
      ]
    },
    {
      "cell_type": "code",
      "source": [
        "mod_inc = abs(transactions[transactions.customer_id == larg_inc.index[0]]['amount'].sum())\n",
        "mod_spend = abs(transactions[transactions.customer_id == larg_spend.index[0]]['amount'].sum())\n",
        "print(mod_inc)\n",
        "print(mod_spend)"
      ],
      "metadata": {
        "colab": {
          "base_uri": "https://localhost:8080/"
        },
        "id": "kELH7O4rDXcO",
        "outputId": "3e9731b8-df96-492f-cec3-a2133b533f5e"
      },
      "execution_count": null,
      "outputs": [
        {
          "output_type": "stream",
          "name": "stdout",
          "text": [
            "1837317.97999987\n",
            "1837317.97999987\n"
          ]
        }
      ]
    },
    {
      "cell_type": "code",
      "source": [
        "transactions[transactions.customer_id == larg_inc.index[0]][transactions.amount > 0]"
      ],
      "metadata": {
        "colab": {
          "base_uri": "https://localhost:8080/",
          "height": 1000
        },
        "id": "dPJjW5VwYkWz",
        "outputId": "56e81fbe-5a55-4c89-cfae-d9940ededecd"
      },
      "execution_count": null,
      "outputs": [
        {
          "output_type": "execute_result",
          "data": {
            "text/plain": [
              "        customer_id   tr_datetime  mcc_code  tr_type    amount term_id  \\\n",
              "995568     70780820  389 11:05:02      6010     7031   4244.78  705492   \n",
              "995569     70780820  390 10:16:14      6010     7031  39954.84  700397   \n",
              "995570     70780820  390 11:35:51      6010     7031  24592.78  542607   \n",
              "995571     70780820  391 01:27:45      6010     7031  17150.49  871780   \n",
              "995572     70780820  391 05:50:09      6010     7031  17742.73  764917   \n",
              "...             ...           ...       ...      ...       ...     ...   \n",
              "997962     70780820  245 11:26:04      6010     7040  14396.32  370359   \n",
              "997963     70780820  333 02:07:47      6010     7040  19269.96  152770   \n",
              "997964     70780820  369 11:41:37      6010     7040  10398.59  150547   \n",
              "997965     70780820  374 08:16:14      6010     7040  54396.08  150318   \n",
              "998073     70780820   41 16:26:41      6010     7034  14306.48     NaN   \n",
              "\n",
              "        gender                                   mcc_description  \\\n",
              "995568     1.0  Финансовые институты — снятие наличности вручную   \n",
              "995569     1.0  Финансовые институты — снятие наличности вручную   \n",
              "995570     1.0  Финансовые институты — снятие наличности вручную   \n",
              "995571     1.0  Финансовые институты — снятие наличности вручную   \n",
              "995572     1.0  Финансовые институты — снятие наличности вручную   \n",
              "...        ...                                               ...   \n",
              "997962     1.0  Финансовые институты — снятие наличности вручную   \n",
              "997963     1.0  Финансовые институты — снятие наличности вручную   \n",
              "997964     1.0  Финансовые институты — снятие наличности вручную   \n",
              "997965     1.0  Финансовые институты — снятие наличности вручную   \n",
              "998073     1.0  Финансовые институты — снятие наличности вручную   \n",
              "\n",
              "                                           tr_description  \n",
              "995568  Перевод на карту (с карты) через АТМ (из одног...  \n",
              "995569  Перевод на карту (с карты) через АТМ (из одног...  \n",
              "995570  Перевод на карту (с карты) через АТМ (из одног...  \n",
              "995571  Перевод на карту (с карты) через АТМ (из одног...  \n",
              "995572  Перевод на карту (с карты) через АТМ (из одног...  \n",
              "...                                                   ...  \n",
              "997962  Перевод на карту (с карты) через POS (в предел...  \n",
              "997963  Перевод на карту (с карты) через POS (в предел...  \n",
              "997964  Перевод на карту (с карты) через POS (в предел...  \n",
              "997965  Перевод на карту (с карты) через POS (в предел...  \n",
              "998073  Перевод на карту/ с карты через АТМ (без взима...  \n",
              "\n",
              "[90 rows x 9 columns]"
            ],
            "text/html": [
              "\n",
              "  <div id=\"df-f5a5a20b-0f04-4fe5-8257-45011e32fbda\">\n",
              "    <div class=\"colab-df-container\">\n",
              "      <div>\n",
              "<style scoped>\n",
              "    .dataframe tbody tr th:only-of-type {\n",
              "        vertical-align: middle;\n",
              "    }\n",
              "\n",
              "    .dataframe tbody tr th {\n",
              "        vertical-align: top;\n",
              "    }\n",
              "\n",
              "    .dataframe thead th {\n",
              "        text-align: right;\n",
              "    }\n",
              "</style>\n",
              "<table border=\"1\" class=\"dataframe\">\n",
              "  <thead>\n",
              "    <tr style=\"text-align: right;\">\n",
              "      <th></th>\n",
              "      <th>customer_id</th>\n",
              "      <th>tr_datetime</th>\n",
              "      <th>mcc_code</th>\n",
              "      <th>tr_type</th>\n",
              "      <th>amount</th>\n",
              "      <th>term_id</th>\n",
              "      <th>gender</th>\n",
              "      <th>mcc_description</th>\n",
              "      <th>tr_description</th>\n",
              "    </tr>\n",
              "  </thead>\n",
              "  <tbody>\n",
              "    <tr>\n",
              "      <th>995568</th>\n",
              "      <td>70780820</td>\n",
              "      <td>389 11:05:02</td>\n",
              "      <td>6010</td>\n",
              "      <td>7031</td>\n",
              "      <td>4244.78</td>\n",
              "      <td>705492</td>\n",
              "      <td>1.0</td>\n",
              "      <td>Финансовые институты — снятие наличности вручную</td>\n",
              "      <td>Перевод на карту (с карты) через АТМ (из одног...</td>\n",
              "    </tr>\n",
              "    <tr>\n",
              "      <th>995569</th>\n",
              "      <td>70780820</td>\n",
              "      <td>390 10:16:14</td>\n",
              "      <td>6010</td>\n",
              "      <td>7031</td>\n",
              "      <td>39954.84</td>\n",
              "      <td>700397</td>\n",
              "      <td>1.0</td>\n",
              "      <td>Финансовые институты — снятие наличности вручную</td>\n",
              "      <td>Перевод на карту (с карты) через АТМ (из одног...</td>\n",
              "    </tr>\n",
              "    <tr>\n",
              "      <th>995570</th>\n",
              "      <td>70780820</td>\n",
              "      <td>390 11:35:51</td>\n",
              "      <td>6010</td>\n",
              "      <td>7031</td>\n",
              "      <td>24592.78</td>\n",
              "      <td>542607</td>\n",
              "      <td>1.0</td>\n",
              "      <td>Финансовые институты — снятие наличности вручную</td>\n",
              "      <td>Перевод на карту (с карты) через АТМ (из одног...</td>\n",
              "    </tr>\n",
              "    <tr>\n",
              "      <th>995571</th>\n",
              "      <td>70780820</td>\n",
              "      <td>391 01:27:45</td>\n",
              "      <td>6010</td>\n",
              "      <td>7031</td>\n",
              "      <td>17150.49</td>\n",
              "      <td>871780</td>\n",
              "      <td>1.0</td>\n",
              "      <td>Финансовые институты — снятие наличности вручную</td>\n",
              "      <td>Перевод на карту (с карты) через АТМ (из одног...</td>\n",
              "    </tr>\n",
              "    <tr>\n",
              "      <th>995572</th>\n",
              "      <td>70780820</td>\n",
              "      <td>391 05:50:09</td>\n",
              "      <td>6010</td>\n",
              "      <td>7031</td>\n",
              "      <td>17742.73</td>\n",
              "      <td>764917</td>\n",
              "      <td>1.0</td>\n",
              "      <td>Финансовые институты — снятие наличности вручную</td>\n",
              "      <td>Перевод на карту (с карты) через АТМ (из одног...</td>\n",
              "    </tr>\n",
              "    <tr>\n",
              "      <th>...</th>\n",
              "      <td>...</td>\n",
              "      <td>...</td>\n",
              "      <td>...</td>\n",
              "      <td>...</td>\n",
              "      <td>...</td>\n",
              "      <td>...</td>\n",
              "      <td>...</td>\n",
              "      <td>...</td>\n",
              "      <td>...</td>\n",
              "    </tr>\n",
              "    <tr>\n",
              "      <th>997962</th>\n",
              "      <td>70780820</td>\n",
              "      <td>245 11:26:04</td>\n",
              "      <td>6010</td>\n",
              "      <td>7040</td>\n",
              "      <td>14396.32</td>\n",
              "      <td>370359</td>\n",
              "      <td>1.0</td>\n",
              "      <td>Финансовые институты — снятие наличности вручную</td>\n",
              "      <td>Перевод на карту (с карты) через POS (в предел...</td>\n",
              "    </tr>\n",
              "    <tr>\n",
              "      <th>997963</th>\n",
              "      <td>70780820</td>\n",
              "      <td>333 02:07:47</td>\n",
              "      <td>6010</td>\n",
              "      <td>7040</td>\n",
              "      <td>19269.96</td>\n",
              "      <td>152770</td>\n",
              "      <td>1.0</td>\n",
              "      <td>Финансовые институты — снятие наличности вручную</td>\n",
              "      <td>Перевод на карту (с карты) через POS (в предел...</td>\n",
              "    </tr>\n",
              "    <tr>\n",
              "      <th>997964</th>\n",
              "      <td>70780820</td>\n",
              "      <td>369 11:41:37</td>\n",
              "      <td>6010</td>\n",
              "      <td>7040</td>\n",
              "      <td>10398.59</td>\n",
              "      <td>150547</td>\n",
              "      <td>1.0</td>\n",
              "      <td>Финансовые институты — снятие наличности вручную</td>\n",
              "      <td>Перевод на карту (с карты) через POS (в предел...</td>\n",
              "    </tr>\n",
              "    <tr>\n",
              "      <th>997965</th>\n",
              "      <td>70780820</td>\n",
              "      <td>374 08:16:14</td>\n",
              "      <td>6010</td>\n",
              "      <td>7040</td>\n",
              "      <td>54396.08</td>\n",
              "      <td>150318</td>\n",
              "      <td>1.0</td>\n",
              "      <td>Финансовые институты — снятие наличности вручную</td>\n",
              "      <td>Перевод на карту (с карты) через POS (в предел...</td>\n",
              "    </tr>\n",
              "    <tr>\n",
              "      <th>998073</th>\n",
              "      <td>70780820</td>\n",
              "      <td>41 16:26:41</td>\n",
              "      <td>6010</td>\n",
              "      <td>7034</td>\n",
              "      <td>14306.48</td>\n",
              "      <td>NaN</td>\n",
              "      <td>1.0</td>\n",
              "      <td>Финансовые институты — снятие наличности вручную</td>\n",
              "      <td>Перевод на карту/ с карты через АТМ (без взима...</td>\n",
              "    </tr>\n",
              "  </tbody>\n",
              "</table>\n",
              "<p>90 rows × 9 columns</p>\n",
              "</div>\n",
              "      <button class=\"colab-df-convert\" onclick=\"convertToInteractive('df-f5a5a20b-0f04-4fe5-8257-45011e32fbda')\"\n",
              "              title=\"Convert this dataframe to an interactive table.\"\n",
              "              style=\"display:none;\">\n",
              "        \n",
              "  <svg xmlns=\"http://www.w3.org/2000/svg\" height=\"24px\"viewBox=\"0 0 24 24\"\n",
              "       width=\"24px\">\n",
              "    <path d=\"M0 0h24v24H0V0z\" fill=\"none\"/>\n",
              "    <path d=\"M18.56 5.44l.94 2.06.94-2.06 2.06-.94-2.06-.94-.94-2.06-.94 2.06-2.06.94zm-11 1L8.5 8.5l.94-2.06 2.06-.94-2.06-.94L8.5 2.5l-.94 2.06-2.06.94zm10 10l.94 2.06.94-2.06 2.06-.94-2.06-.94-.94-2.06-.94 2.06-2.06.94z\"/><path d=\"M17.41 7.96l-1.37-1.37c-.4-.4-.92-.59-1.43-.59-.52 0-1.04.2-1.43.59L10.3 9.45l-7.72 7.72c-.78.78-.78 2.05 0 2.83L4 21.41c.39.39.9.59 1.41.59.51 0 1.02-.2 1.41-.59l7.78-7.78 2.81-2.81c.8-.78.8-2.07 0-2.86zM5.41 20L4 18.59l7.72-7.72 1.47 1.35L5.41 20z\"/>\n",
              "  </svg>\n",
              "      </button>\n",
              "      \n",
              "  <style>\n",
              "    .colab-df-container {\n",
              "      display:flex;\n",
              "      flex-wrap:wrap;\n",
              "      gap: 12px;\n",
              "    }\n",
              "\n",
              "    .colab-df-convert {\n",
              "      background-color: #E8F0FE;\n",
              "      border: none;\n",
              "      border-radius: 50%;\n",
              "      cursor: pointer;\n",
              "      display: none;\n",
              "      fill: #1967D2;\n",
              "      height: 32px;\n",
              "      padding: 0 0 0 0;\n",
              "      width: 32px;\n",
              "    }\n",
              "\n",
              "    .colab-df-convert:hover {\n",
              "      background-color: #E2EBFA;\n",
              "      box-shadow: 0px 1px 2px rgba(60, 64, 67, 0.3), 0px 1px 3px 1px rgba(60, 64, 67, 0.15);\n",
              "      fill: #174EA6;\n",
              "    }\n",
              "\n",
              "    [theme=dark] .colab-df-convert {\n",
              "      background-color: #3B4455;\n",
              "      fill: #D2E3FC;\n",
              "    }\n",
              "\n",
              "    [theme=dark] .colab-df-convert:hover {\n",
              "      background-color: #434B5C;\n",
              "      box-shadow: 0px 1px 3px 1px rgba(0, 0, 0, 0.15);\n",
              "      filter: drop-shadow(0px 1px 2px rgba(0, 0, 0, 0.3));\n",
              "      fill: #FFFFFF;\n",
              "    }\n",
              "  </style>\n",
              "\n",
              "      <script>\n",
              "        const buttonEl =\n",
              "          document.querySelector('#df-f5a5a20b-0f04-4fe5-8257-45011e32fbda button.colab-df-convert');\n",
              "        buttonEl.style.display =\n",
              "          google.colab.kernel.accessAllowed ? 'block' : 'none';\n",
              "\n",
              "        async function convertToInteractive(key) {\n",
              "          const element = document.querySelector('#df-f5a5a20b-0f04-4fe5-8257-45011e32fbda');\n",
              "          const dataTable =\n",
              "            await google.colab.kernel.invokeFunction('convertToInteractive',\n",
              "                                                     [key], {});\n",
              "          if (!dataTable) return;\n",
              "\n",
              "          const docLinkHtml = 'Like what you see? Visit the ' +\n",
              "            '<a target=\"_blank\" href=https://colab.research.google.com/notebooks/data_table.ipynb>data table notebook</a>'\n",
              "            + ' to learn more about interactive tables.';\n",
              "          element.innerHTML = '';\n",
              "          dataTable['output_type'] = 'display_data';\n",
              "          await google.colab.output.renderOutput(dataTable, element);\n",
              "          const docLink = document.createElement('div');\n",
              "          docLink.innerHTML = docLinkHtml;\n",
              "          element.appendChild(docLink);\n",
              "        }\n",
              "      </script>\n",
              "    </div>\n",
              "  </div>\n",
              "  "
            ]
          },
          "metadata": {},
          "execution_count": 81
        }
      ]
    },
    {
      "cell_type": "markdown",
      "metadata": {
        "id": "BYrJ5b_E8Jee"
      },
      "source": [
        "## Задание 4\n",
        "1. Найдите среднее арифметическое и медиану по amount по всем типам транзакций из топ 10 из задания 2\n",
        "1. Найдите среднее арифметическое и медиану по amount по всем типам транзакций для клиентов из задания 3"
      ]
    },
    {
      "cell_type": "code",
      "source": [
        "tr_group = transactions.groupby(['tr_type'])\n",
        "mean_tr_group = tr_group['amount'].mean().loc[tr_top10.index]\n",
        "median_tr_group = tr_group['amount'].median().loc[tr_top10.index]\n",
        "pd.DataFrame({'mean': mean_tr_group, 'median': median_tr_group})"
      ],
      "metadata": {
        "colab": {
          "base_uri": "https://localhost:8080/",
          "height": 394
        },
        "id": "xJB1L1hTEQWf",
        "outputId": "a5fa8d22-f4d2-49b3-db76-2bc29823ebc8"
      },
      "execution_count": null,
      "outputs": [
        {
          "output_type": "execute_result",
          "data": {
            "text/plain": [
              "                  mean     median\n",
              "tr_type                          \n",
              "1010     -19784.748640   -7411.52\n",
              "2010    -136077.629325  -44918.32\n",
              "7070      65569.831700   11319.42\n",
              "1110     -32119.330371  -11207.57\n",
              "1030      -5320.980222   -2245.92\n",
              "2370    -205418.249032  -44918.32\n",
              "7010     276391.789596  112295.79\n",
              "7030      86104.332909   13951.52\n",
              "7071      66806.826623    3593.47\n",
              "1100     -44061.827262  -10188.26"
            ],
            "text/html": [
              "\n",
              "  <div id=\"df-eadd4be9-6518-4d7a-a1cb-f12f0a501da2\">\n",
              "    <div class=\"colab-df-container\">\n",
              "      <div>\n",
              "<style scoped>\n",
              "    .dataframe tbody tr th:only-of-type {\n",
              "        vertical-align: middle;\n",
              "    }\n",
              "\n",
              "    .dataframe tbody tr th {\n",
              "        vertical-align: top;\n",
              "    }\n",
              "\n",
              "    .dataframe thead th {\n",
              "        text-align: right;\n",
              "    }\n",
              "</style>\n",
              "<table border=\"1\" class=\"dataframe\">\n",
              "  <thead>\n",
              "    <tr style=\"text-align: right;\">\n",
              "      <th></th>\n",
              "      <th>mean</th>\n",
              "      <th>median</th>\n",
              "    </tr>\n",
              "    <tr>\n",
              "      <th>tr_type</th>\n",
              "      <th></th>\n",
              "      <th></th>\n",
              "    </tr>\n",
              "  </thead>\n",
              "  <tbody>\n",
              "    <tr>\n",
              "      <th>1010</th>\n",
              "      <td>-19784.748640</td>\n",
              "      <td>-7411.52</td>\n",
              "    </tr>\n",
              "    <tr>\n",
              "      <th>2010</th>\n",
              "      <td>-136077.629325</td>\n",
              "      <td>-44918.32</td>\n",
              "    </tr>\n",
              "    <tr>\n",
              "      <th>7070</th>\n",
              "      <td>65569.831700</td>\n",
              "      <td>11319.42</td>\n",
              "    </tr>\n",
              "    <tr>\n",
              "      <th>1110</th>\n",
              "      <td>-32119.330371</td>\n",
              "      <td>-11207.57</td>\n",
              "    </tr>\n",
              "    <tr>\n",
              "      <th>1030</th>\n",
              "      <td>-5320.980222</td>\n",
              "      <td>-2245.92</td>\n",
              "    </tr>\n",
              "    <tr>\n",
              "      <th>2370</th>\n",
              "      <td>-205418.249032</td>\n",
              "      <td>-44918.32</td>\n",
              "    </tr>\n",
              "    <tr>\n",
              "      <th>7010</th>\n",
              "      <td>276391.789596</td>\n",
              "      <td>112295.79</td>\n",
              "    </tr>\n",
              "    <tr>\n",
              "      <th>7030</th>\n",
              "      <td>86104.332909</td>\n",
              "      <td>13951.52</td>\n",
              "    </tr>\n",
              "    <tr>\n",
              "      <th>7071</th>\n",
              "      <td>66806.826623</td>\n",
              "      <td>3593.47</td>\n",
              "    </tr>\n",
              "    <tr>\n",
              "      <th>1100</th>\n",
              "      <td>-44061.827262</td>\n",
              "      <td>-10188.26</td>\n",
              "    </tr>\n",
              "  </tbody>\n",
              "</table>\n",
              "</div>\n",
              "      <button class=\"colab-df-convert\" onclick=\"convertToInteractive('df-eadd4be9-6518-4d7a-a1cb-f12f0a501da2')\"\n",
              "              title=\"Convert this dataframe to an interactive table.\"\n",
              "              style=\"display:none;\">\n",
              "        \n",
              "  <svg xmlns=\"http://www.w3.org/2000/svg\" height=\"24px\"viewBox=\"0 0 24 24\"\n",
              "       width=\"24px\">\n",
              "    <path d=\"M0 0h24v24H0V0z\" fill=\"none\"/>\n",
              "    <path d=\"M18.56 5.44l.94 2.06.94-2.06 2.06-.94-2.06-.94-.94-2.06-.94 2.06-2.06.94zm-11 1L8.5 8.5l.94-2.06 2.06-.94-2.06-.94L8.5 2.5l-.94 2.06-2.06.94zm10 10l.94 2.06.94-2.06 2.06-.94-2.06-.94-.94-2.06-.94 2.06-2.06.94z\"/><path d=\"M17.41 7.96l-1.37-1.37c-.4-.4-.92-.59-1.43-.59-.52 0-1.04.2-1.43.59L10.3 9.45l-7.72 7.72c-.78.78-.78 2.05 0 2.83L4 21.41c.39.39.9.59 1.41.59.51 0 1.02-.2 1.41-.59l7.78-7.78 2.81-2.81c.8-.78.8-2.07 0-2.86zM5.41 20L4 18.59l7.72-7.72 1.47 1.35L5.41 20z\"/>\n",
              "  </svg>\n",
              "      </button>\n",
              "      \n",
              "  <style>\n",
              "    .colab-df-container {\n",
              "      display:flex;\n",
              "      flex-wrap:wrap;\n",
              "      gap: 12px;\n",
              "    }\n",
              "\n",
              "    .colab-df-convert {\n",
              "      background-color: #E8F0FE;\n",
              "      border: none;\n",
              "      border-radius: 50%;\n",
              "      cursor: pointer;\n",
              "      display: none;\n",
              "      fill: #1967D2;\n",
              "      height: 32px;\n",
              "      padding: 0 0 0 0;\n",
              "      width: 32px;\n",
              "    }\n",
              "\n",
              "    .colab-df-convert:hover {\n",
              "      background-color: #E2EBFA;\n",
              "      box-shadow: 0px 1px 2px rgba(60, 64, 67, 0.3), 0px 1px 3px 1px rgba(60, 64, 67, 0.15);\n",
              "      fill: #174EA6;\n",
              "    }\n",
              "\n",
              "    [theme=dark] .colab-df-convert {\n",
              "      background-color: #3B4455;\n",
              "      fill: #D2E3FC;\n",
              "    }\n",
              "\n",
              "    [theme=dark] .colab-df-convert:hover {\n",
              "      background-color: #434B5C;\n",
              "      box-shadow: 0px 1px 3px 1px rgba(0, 0, 0, 0.15);\n",
              "      filter: drop-shadow(0px 1px 2px rgba(0, 0, 0, 0.3));\n",
              "      fill: #FFFFFF;\n",
              "    }\n",
              "  </style>\n",
              "\n",
              "      <script>\n",
              "        const buttonEl =\n",
              "          document.querySelector('#df-eadd4be9-6518-4d7a-a1cb-f12f0a501da2 button.colab-df-convert');\n",
              "        buttonEl.style.display =\n",
              "          google.colab.kernel.accessAllowed ? 'block' : 'none';\n",
              "\n",
              "        async function convertToInteractive(key) {\n",
              "          const element = document.querySelector('#df-eadd4be9-6518-4d7a-a1cb-f12f0a501da2');\n",
              "          const dataTable =\n",
              "            await google.colab.kernel.invokeFunction('convertToInteractive',\n",
              "                                                     [key], {});\n",
              "          if (!dataTable) return;\n",
              "\n",
              "          const docLinkHtml = 'Like what you see? Visit the ' +\n",
              "            '<a target=\"_blank\" href=https://colab.research.google.com/notebooks/data_table.ipynb>data table notebook</a>'\n",
              "            + ' to learn more about interactive tables.';\n",
              "          element.innerHTML = '';\n",
              "          dataTable['output_type'] = 'display_data';\n",
              "          await google.colab.output.renderOutput(dataTable, element);\n",
              "          const docLink = document.createElement('div');\n",
              "          docLink.innerHTML = docLinkHtml;\n",
              "          element.appendChild(docLink);\n",
              "        }\n",
              "      </script>\n",
              "    </div>\n",
              "  </div>\n",
              "  "
            ]
          },
          "metadata": {},
          "execution_count": 63
        }
      ]
    },
    {
      "cell_type": "code",
      "source": [
        "tr_inc = transactions[transactions.customer_id == larg_inc.index[0]].groupby(['tr_type'])\n",
        "tr_spend = transactions[transactions.customer_id == larg_spend.index[0]].groupby(['tr_type'])\n",
        "\n",
        "mean_tr_inc = tr_inc['amount'].mean()\n",
        "median_tr_inc = tr_inc['amount'].median()\n",
        "\n",
        "mean_tr_spend = tr_spend['amount'].mean()\n",
        "median_tr_spend = tr_spend['amount'].median()\n",
        "\n",
        "print(pd.DataFrame({'mean': mean_tr_inc, 'median': median_tr_inc}))\n",
        "print(pd.DataFrame({'mean': mean_tr_spend, 'median': median_tr_spend}))"
      ],
      "metadata": {
        "colab": {
          "base_uri": "https://localhost:8080/"
        },
        "id": "Fl-AFUeXHwWz",
        "outputId": "41d9c8e7-f9e2-4604-ebc6-b11ee63488ba"
      },
      "execution_count": null,
      "outputs": [
        {
          "output_type": "stream",
          "name": "stdout",
          "text": [
            "                 mean       median\n",
            "tr_type                           \n",
            "2010    -2.941056e+06 -3368873.660\n",
            "2330    -2.382398e+06 -2245915.770\n",
            "2370    -2.218505e+06 -2245915.770\n",
            "6110     1.756293e+04    10028.010\n",
            "7020     1.465129e+04    10319.985\n",
            "7021     2.850067e+04    28500.670\n",
            "7030     1.406196e+04     8848.910\n",
            "7031     1.921036e+04    12992.620\n",
            "7034     1.430648e+04    14306.480\n",
            "7040     2.153833e+04    14396.320\n",
            "7070     1.384821e+04     8714.150\n",
            "7071     1.860057e+04    12543.440\n",
            "7074     2.281159e+04     9387.930\n",
            "                 mean       median\n",
            "tr_type                           \n",
            "2010    -2.941056e+06 -3368873.660\n",
            "2330    -2.382398e+06 -2245915.770\n",
            "2370    -2.218505e+06 -2245915.770\n",
            "6110     1.756293e+04    10028.010\n",
            "7020     1.465129e+04    10319.985\n",
            "7021     2.850067e+04    28500.670\n",
            "7030     1.406196e+04     8848.910\n",
            "7031     1.921036e+04    12992.620\n",
            "7034     1.430648e+04    14306.480\n",
            "7040     2.153833e+04    14396.320\n",
            "7070     1.384821e+04     8714.150\n",
            "7071     1.860057e+04    12543.440\n",
            "7074     2.281159e+04     9387.930\n"
          ]
        }
      ]
    },
    {
      "cell_type": "markdown",
      "metadata": {
        "id": "BYXwM4l3QDBu"
      },
      "source": [
        "## Подготовка для заданий 5-8"
      ]
    },
    {
      "cell_type": "markdown",
      "metadata": {
        "id": "XWQzFeKcQHRe"
      },
      "source": [
        "*Из заданий 5-8 нужно выполнить минимум два любых*\n",
        "\n",
        "Соедините transactions с всеми остальными таблицами (tr_mcc_codes, tr_types, gender_train). Причём с gender_train необходимо смёрджиться с помощью left join, а с оставшимися датафреймами - через inner.\n",
        "После получения результата таблицы gender_train, tr_types, tr_mcc_codes можно удалить. В результате соединения датафреймов должно получиться 999584 строки."
      ]
    },
    {
      "cell_type": "code",
      "metadata": {
        "id": "sndJxjJ7QQf5",
        "colab": {
          "base_uri": "https://localhost:8080/"
        },
        "outputId": "680e5a4a-652e-44db-f3be-5fa2ebf76b2a"
      },
      "source": [
        "transactions = pd.merge(transactions, gender_train, how='left')\n",
        "transactions = pd.merge(transactions, tr_mcc_codes, how='inner')\n",
        "transactions = pd.merge(transactions, tr_types, how='inner')\n",
        "transactions.shape"
      ],
      "execution_count": null,
      "outputs": [
        {
          "output_type": "execute_result",
          "data": {
            "text/plain": [
              "(999584, 9)"
            ]
          },
          "metadata": {},
          "execution_count": 69
        }
      ]
    },
    {
      "cell_type": "markdown",
      "metadata": {
        "id": "8vrFauJ8QgmT"
      },
      "source": [
        "## Задание 5"
      ]
    },
    {
      "cell_type": "markdown",
      "metadata": {
        "id": "rOjEQ5xyQfE_"
      },
      "source": [
        "1. Определите модуль разницы между средними тратами женщин и мужчин (трата - отрицательное значение amount).\n",
        "2. Определите модуль разницы между средними поступлениями у мужчин и женщин\n",
        "\n",
        "Обратите внимание, что для вычисления модуля разности точных знаний о том,\n",
        "какой класc относится к мужчинам, а какой - к женщинам, не требуется."
      ]
    },
    {
      "cell_type": "code",
      "source": [
        "tr_gender_groups = transactions[transactions.amount < 0].groupby(['gender'])\n",
        "abs(tr_gender_groups['amount'].mean()[0] - tr_gender_groups['amount'].mean()[1])"
      ],
      "metadata": {
        "colab": {
          "base_uri": "https://localhost:8080/"
        },
        "id": "A2EnGfa9Knfh",
        "outputId": "d9aaabb5-318f-46ea-db88-03fbdfa0bbc9"
      },
      "execution_count": null,
      "outputs": [
        {
          "output_type": "execute_result",
          "data": {
            "text/plain": [
              "32718.054920224655"
            ]
          },
          "metadata": {},
          "execution_count": 70
        }
      ]
    },
    {
      "cell_type": "code",
      "source": [
        "tr_gender_groups = transactions[transactions.amount > 0].groupby(['gender'])\n",
        "abs(tr_gender_groups['amount'].mean()[0] - tr_gender_groups['amount'].mean()[1])"
      ],
      "metadata": {
        "colab": {
          "base_uri": "https://localhost:8080/"
        },
        "id": "hsF95zcGLa6w",
        "outputId": "16185819-3d27-4653-c9a7-acc96399996a"
      },
      "execution_count": null,
      "outputs": [
        {
          "output_type": "execute_result",
          "data": {
            "text/plain": [
              "63366.57104801464"
            ]
          },
          "metadata": {},
          "execution_count": 71
        }
      ]
    },
    {
      "cell_type": "markdown",
      "metadata": {
        "id": "DSHFLbepQ7G1"
      },
      "source": [
        "## Задание 6"
      ]
    },
    {
      "cell_type": "markdown",
      "metadata": {
        "id": "2EF1490bQ-17"
      },
      "source": [
        "1. По всем типам транзакций рассчитайте максимальную сумму прихода на карту (из строго положительных сумм по столбцу amount) отдельно для мужчин и женщин (назовите ее \"max_income\"). Оставьте по 10 типов транзакций для мужчин и для женщин, наименьших среди всех типов транзакций по полученным значениям \"max_income\".\n",
        "2. Выделите среди них те типы транзакций, которые встречаются одновременно и у мужчин, и у женщин"
      ]
    },
    {
      "cell_type": "code",
      "source": [
        "zeros_max_income = transactions[transactions.amount > 0][transactions.gender == 0].groupby(['tr_type'])['amount'].max().sort_values(ascending=False).tail(10)\n",
        "ones_max_income = transactions[transactions.amount > 0][transactions.gender == 1].groupby(['tr_type'])['amount'].max().sort_values(ascending=False).tail(10)\n",
        "\n",
        "print(pd.DataFrame({'max_income': zeros_max_income}))\n",
        "print(pd.DataFrame({'max_income': ones_max_income}))"
      ],
      "metadata": {
        "colab": {
          "base_uri": "https://localhost:8080/"
        },
        "id": "8N34lYxpMLGp",
        "outputId": "d149cef8-ee88-4f15-b039-a38b5ee2d447"
      },
      "execution_count": null,
      "outputs": [
        {
          "output_type": "stream",
          "name": "stdout",
          "text": [
            "         max_income\n",
            "tr_type            \n",
            "2210       68315.82\n",
            "2010       44918.32\n",
            "1010       24839.83\n",
            "2110       22459.16\n",
            "7075        6737.75\n",
            "4100        5041.86\n",
            "2370        2335.75\n",
            "4210        2245.92\n",
            "4110        2245.92\n",
            "4051        1122.96\n",
            "         max_income\n",
            "tr_type            \n",
            "7015      121279.45\n",
            "2370      113194.15\n",
            "2110      112295.79\n",
            "2010       89836.63\n",
            "7041       87590.72\n",
            "6000       79280.83\n",
            "8100       64682.37\n",
            "1010       28803.87\n",
            "4110        2245.92\n",
            "2020        2245.92\n"
          ]
        },
        {
          "output_type": "stream",
          "name": "stderr",
          "text": [
            "/usr/local/lib/python3.7/dist-packages/ipykernel_launcher.py:1: UserWarning: Boolean Series key will be reindexed to match DataFrame index.\n",
            "  \"\"\"Entry point for launching an IPython kernel.\n",
            "/usr/local/lib/python3.7/dist-packages/ipykernel_launcher.py:2: UserWarning: Boolean Series key will be reindexed to match DataFrame index.\n",
            "  \n"
          ]
        }
      ]
    },
    {
      "cell_type": "code",
      "source": [
        "zeros_max_income[zeros_max_income.keys().isin(ones_max_income.keys())].index"
      ],
      "metadata": {
        "colab": {
          "base_uri": "https://localhost:8080/"
        },
        "id": "YVGg4XeONp7J",
        "outputId": "da1f23f6-63a8-4165-fc1a-60f4d4d1334b"
      },
      "execution_count": null,
      "outputs": [
        {
          "output_type": "execute_result",
          "data": {
            "text/plain": [
              "Int64Index([2010, 1010, 2110, 2370, 4110], dtype='int64', name='tr_type')"
            ]
          },
          "metadata": {},
          "execution_count": 73
        }
      ]
    },
    {
      "cell_type": "markdown",
      "metadata": {
        "id": "W-LaVwRdR3UB"
      },
      "source": [
        "## Задание 7"
      ]
    },
    {
      "cell_type": "markdown",
      "metadata": {
        "id": "rhI4NOciR7e0"
      },
      "source": [
        "1. Найдите суммы затрат по каждой категории (mcc) для мужчин и для женщин.\n",
        "2. Найдите топ 10 категорий с самыми большими относительными модулями разности в тратах для разных полов (в ответе должны присутствовать описания mcc кодов)."
      ]
    },
    {
      "cell_type": "code",
      "source": [
        "zeros_tr_sum = transactions[transactions.amount < 0][transactions.gender == 0].groupby(['mcc_code'])['amount'].sum()\n",
        "ones_tr_sum = transactions[transactions.amount < 0][transactions.gender == 1].groupby(['mcc_code'])['amount'].sum()\n",
        "\n",
        "print(zeros_tr_sum)\n",
        "print(ones_tr_sum)"
      ],
      "metadata": {
        "colab": {
          "base_uri": "https://localhost:8080/"
        },
        "id": "Xj5RBmnxOnsS",
        "outputId": "13e09a5a-f819-4b12-ee08-bf817c4305c1"
      },
      "execution_count": null,
      "outputs": [
        {
          "output_type": "stream",
          "name": "stdout",
          "text": [
            "mcc_code\n",
            "742      -386207.68\n",
            "1711     -674897.69\n",
            "1799     -261626.73\n",
            "2741      -20746.42\n",
            "3000   -74431645.27\n",
            "           ...     \n",
            "8699     -521107.48\n",
            "8999   -19432057.92\n",
            "9222     -361143.24\n",
            "9311     -406197.45\n",
            "9399    -1481389.65\n",
            "Name: amount, Length: 174, dtype: float64\n",
            "mcc_code\n",
            "742      -132277.93\n",
            "1711     -206264.90\n",
            "1731     -121542.67\n",
            "1799    -1129257.68\n",
            "2741     -221290.08\n",
            "           ...     \n",
            "8999   -28643346.63\n",
            "9222     -988205.17\n",
            "9311     -373271.22\n",
            "9399    -1810820.67\n",
            "9402       -4581.67\n",
            "Name: amount, Length: 175, dtype: float64\n"
          ]
        },
        {
          "output_type": "stream",
          "name": "stderr",
          "text": [
            "/usr/local/lib/python3.7/dist-packages/ipykernel_launcher.py:1: UserWarning: Boolean Series key will be reindexed to match DataFrame index.\n",
            "  \"\"\"Entry point for launching an IPython kernel.\n",
            "/usr/local/lib/python3.7/dist-packages/ipykernel_launcher.py:2: UserWarning: Boolean Series key will be reindexed to match DataFrame index.\n",
            "  \n"
          ]
        }
      ]
    },
    {
      "cell_type": "code",
      "source": [
        "mod_gender_mcc = (abs(zeros_tr_sum - ones_tr_sum).sort_values(ascending=False)).head(10)\n",
        "mg_table = pd.merge(mod_gender_mcc, tr_mcc_codes.set_index('mcc_code'), how='left', on='mcc_code')\n",
        "mg_table"
      ],
      "metadata": {
        "colab": {
          "base_uri": "https://localhost:8080/",
          "height": 394
        },
        "id": "Xtu7x_8jQrv3",
        "outputId": "7853f396-22cc-4c10-a527-f17fb7d18fd8"
      },
      "execution_count": null,
      "outputs": [
        {
          "output_type": "execute_result",
          "data": {
            "text/plain": [
              "                amount                                    mcc_description\n",
              "mcc_code                                                                 \n",
              "6011      3.085862e+09  Финансовые институты — снятие наличности автом...\n",
              "4829      2.499153e+09                                  Денежные переводы\n",
              "6010      2.208580e+08   Финансовые институты — снятие наличности вручную\n",
              "5541      1.554326e+08                            Станции техобслуживания\n",
              "5511      7.352877e+07  Легковой и грузовой транспорт — продажа, серви...\n",
              "5812      7.037856e+07             Места общественного питания, рестораны\n",
              "5977      4.241762e+07                                 Магазины косметики\n",
              "5533      4.233808e+07                          Автозапчасти и аксессуары\n",
              "7995      4.079564e+07                       Транзакции по азартным играм\n",
              "5661      3.815470e+07                                   Обувные магазины"
            ],
            "text/html": [
              "\n",
              "  <div id=\"df-d0ba8adf-2e83-456e-880c-f4d5e84d42ab\">\n",
              "    <div class=\"colab-df-container\">\n",
              "      <div>\n",
              "<style scoped>\n",
              "    .dataframe tbody tr th:only-of-type {\n",
              "        vertical-align: middle;\n",
              "    }\n",
              "\n",
              "    .dataframe tbody tr th {\n",
              "        vertical-align: top;\n",
              "    }\n",
              "\n",
              "    .dataframe thead th {\n",
              "        text-align: right;\n",
              "    }\n",
              "</style>\n",
              "<table border=\"1\" class=\"dataframe\">\n",
              "  <thead>\n",
              "    <tr style=\"text-align: right;\">\n",
              "      <th></th>\n",
              "      <th>amount</th>\n",
              "      <th>mcc_description</th>\n",
              "    </tr>\n",
              "    <tr>\n",
              "      <th>mcc_code</th>\n",
              "      <th></th>\n",
              "      <th></th>\n",
              "    </tr>\n",
              "  </thead>\n",
              "  <tbody>\n",
              "    <tr>\n",
              "      <th>6011</th>\n",
              "      <td>3.085862e+09</td>\n",
              "      <td>Финансовые институты — снятие наличности автом...</td>\n",
              "    </tr>\n",
              "    <tr>\n",
              "      <th>4829</th>\n",
              "      <td>2.499153e+09</td>\n",
              "      <td>Денежные переводы</td>\n",
              "    </tr>\n",
              "    <tr>\n",
              "      <th>6010</th>\n",
              "      <td>2.208580e+08</td>\n",
              "      <td>Финансовые институты — снятие наличности вручную</td>\n",
              "    </tr>\n",
              "    <tr>\n",
              "      <th>5541</th>\n",
              "      <td>1.554326e+08</td>\n",
              "      <td>Станции техобслуживания</td>\n",
              "    </tr>\n",
              "    <tr>\n",
              "      <th>5511</th>\n",
              "      <td>7.352877e+07</td>\n",
              "      <td>Легковой и грузовой транспорт — продажа, серви...</td>\n",
              "    </tr>\n",
              "    <tr>\n",
              "      <th>5812</th>\n",
              "      <td>7.037856e+07</td>\n",
              "      <td>Места общественного питания, рестораны</td>\n",
              "    </tr>\n",
              "    <tr>\n",
              "      <th>5977</th>\n",
              "      <td>4.241762e+07</td>\n",
              "      <td>Магазины косметики</td>\n",
              "    </tr>\n",
              "    <tr>\n",
              "      <th>5533</th>\n",
              "      <td>4.233808e+07</td>\n",
              "      <td>Автозапчасти и аксессуары</td>\n",
              "    </tr>\n",
              "    <tr>\n",
              "      <th>7995</th>\n",
              "      <td>4.079564e+07</td>\n",
              "      <td>Транзакции по азартным играм</td>\n",
              "    </tr>\n",
              "    <tr>\n",
              "      <th>5661</th>\n",
              "      <td>3.815470e+07</td>\n",
              "      <td>Обувные магазины</td>\n",
              "    </tr>\n",
              "  </tbody>\n",
              "</table>\n",
              "</div>\n",
              "      <button class=\"colab-df-convert\" onclick=\"convertToInteractive('df-d0ba8adf-2e83-456e-880c-f4d5e84d42ab')\"\n",
              "              title=\"Convert this dataframe to an interactive table.\"\n",
              "              style=\"display:none;\">\n",
              "        \n",
              "  <svg xmlns=\"http://www.w3.org/2000/svg\" height=\"24px\"viewBox=\"0 0 24 24\"\n",
              "       width=\"24px\">\n",
              "    <path d=\"M0 0h24v24H0V0z\" fill=\"none\"/>\n",
              "    <path d=\"M18.56 5.44l.94 2.06.94-2.06 2.06-.94-2.06-.94-.94-2.06-.94 2.06-2.06.94zm-11 1L8.5 8.5l.94-2.06 2.06-.94-2.06-.94L8.5 2.5l-.94 2.06-2.06.94zm10 10l.94 2.06.94-2.06 2.06-.94-2.06-.94-.94-2.06-.94 2.06-2.06.94z\"/><path d=\"M17.41 7.96l-1.37-1.37c-.4-.4-.92-.59-1.43-.59-.52 0-1.04.2-1.43.59L10.3 9.45l-7.72 7.72c-.78.78-.78 2.05 0 2.83L4 21.41c.39.39.9.59 1.41.59.51 0 1.02-.2 1.41-.59l7.78-7.78 2.81-2.81c.8-.78.8-2.07 0-2.86zM5.41 20L4 18.59l7.72-7.72 1.47 1.35L5.41 20z\"/>\n",
              "  </svg>\n",
              "      </button>\n",
              "      \n",
              "  <style>\n",
              "    .colab-df-container {\n",
              "      display:flex;\n",
              "      flex-wrap:wrap;\n",
              "      gap: 12px;\n",
              "    }\n",
              "\n",
              "    .colab-df-convert {\n",
              "      background-color: #E8F0FE;\n",
              "      border: none;\n",
              "      border-radius: 50%;\n",
              "      cursor: pointer;\n",
              "      display: none;\n",
              "      fill: #1967D2;\n",
              "      height: 32px;\n",
              "      padding: 0 0 0 0;\n",
              "      width: 32px;\n",
              "    }\n",
              "\n",
              "    .colab-df-convert:hover {\n",
              "      background-color: #E2EBFA;\n",
              "      box-shadow: 0px 1px 2px rgba(60, 64, 67, 0.3), 0px 1px 3px 1px rgba(60, 64, 67, 0.15);\n",
              "      fill: #174EA6;\n",
              "    }\n",
              "\n",
              "    [theme=dark] .colab-df-convert {\n",
              "      background-color: #3B4455;\n",
              "      fill: #D2E3FC;\n",
              "    }\n",
              "\n",
              "    [theme=dark] .colab-df-convert:hover {\n",
              "      background-color: #434B5C;\n",
              "      box-shadow: 0px 1px 3px 1px rgba(0, 0, 0, 0.15);\n",
              "      filter: drop-shadow(0px 1px 2px rgba(0, 0, 0, 0.3));\n",
              "      fill: #FFFFFF;\n",
              "    }\n",
              "  </style>\n",
              "\n",
              "      <script>\n",
              "        const buttonEl =\n",
              "          document.querySelector('#df-d0ba8adf-2e83-456e-880c-f4d5e84d42ab button.colab-df-convert');\n",
              "        buttonEl.style.display =\n",
              "          google.colab.kernel.accessAllowed ? 'block' : 'none';\n",
              "\n",
              "        async function convertToInteractive(key) {\n",
              "          const element = document.querySelector('#df-d0ba8adf-2e83-456e-880c-f4d5e84d42ab');\n",
              "          const dataTable =\n",
              "            await google.colab.kernel.invokeFunction('convertToInteractive',\n",
              "                                                     [key], {});\n",
              "          if (!dataTable) return;\n",
              "\n",
              "          const docLinkHtml = 'Like what you see? Visit the ' +\n",
              "            '<a target=\"_blank\" href=https://colab.research.google.com/notebooks/data_table.ipynb>data table notebook</a>'\n",
              "            + ' to learn more about interactive tables.';\n",
              "          element.innerHTML = '';\n",
              "          dataTable['output_type'] = 'display_data';\n",
              "          await google.colab.output.renderOutput(dataTable, element);\n",
              "          const docLink = document.createElement('div');\n",
              "          docLink.innerHTML = docLinkHtml;\n",
              "          element.appendChild(docLink);\n",
              "        }\n",
              "      </script>\n",
              "    </div>\n",
              "  </div>\n",
              "  "
            ]
          },
          "metadata": {},
          "execution_count": 36
        }
      ]
    },
    {
      "cell_type": "markdown",
      "metadata": {
        "id": "aGaPkQkVSvl8"
      },
      "source": [
        "## Задание 8"
      ]
    },
    {
      "cell_type": "markdown",
      "metadata": {
        "id": "T7Ox1qAXTHQl"
      },
      "source": [
        "1. Из поля tr_datetime выделите час tr_hour, в который произошла транзакция, как первые 2 цифры до \":\". (\\**)\n",
        "2. Посчитайте количество транзакций с amount<0 в ночное время для мужчин и женщин. Ночное время - это примерно 00-06 часов."
      ]
    },
    {
      "cell_type": "code",
      "source": [
        "transactions['tr_hour'] = transactions['tr_datetime'].str.extract(' (..):').astype(int)\n",
        "transactions"
      ],
      "metadata": {
        "colab": {
          "base_uri": "https://localhost:8080/",
          "height": 922
        },
        "id": "kcmqQFlcTyOo",
        "outputId": "56304ba2-d964-4bc8-f725-96a376ceb067"
      },
      "execution_count": null,
      "outputs": [
        {
          "output_type": "execute_result",
          "data": {
            "text/plain": [
              "        customer_id   tr_datetime  mcc_code  tr_type      amount term_id  \\\n",
              "0          39026145    0 10:23:26      4814     1030    -2245.92     NaN   \n",
              "1          39026145    6 07:08:31      4814     1030    -5614.79     NaN   \n",
              "2          39026145    8 07:06:10      4814     1030    -1122.96     NaN   \n",
              "3          39026145   11 08:49:03      4814     1030    -2245.92     NaN   \n",
              "4          39026145   11 14:12:08      4814     1030    -2245.92     NaN   \n",
              "...             ...           ...       ...      ...         ...     ...   \n",
              "999579     36837532   18 23:38:60      3000     6000  1297824.89     NaN   \n",
              "999580      6808459  206 19:00:10      3000     6000   124693.24     NaN   \n",
              "999581     83759123   90 22:40:57      3000     6000   218976.79     NaN   \n",
              "999582     89619970  104 23:39:35      3000     6000   408307.49     NaN   \n",
              "999583     89619970  105 23:38:49      3000     6000   204153.74     NaN   \n",
              "\n",
              "        gender                                    mcc_description  \\\n",
              "0          1.0  Звонки с использованием телефонов, считывающих...   \n",
              "1          1.0  Звонки с использованием телефонов, считывающих...   \n",
              "2          1.0  Звонки с использованием телефонов, считывающих...   \n",
              "3          1.0  Звонки с использованием телефонов, считывающих...   \n",
              "4          1.0  Звонки с использованием телефонов, считывающих...   \n",
              "...        ...                                                ...   \n",
              "999579     NaN                            Авиалинии, авиакомпании   \n",
              "999580     NaN                            Авиалинии, авиакомпании   \n",
              "999581     NaN                            Авиалинии, авиакомпании   \n",
              "999582     NaN                            Авиалинии, авиакомпании   \n",
              "999583     NaN                            Авиалинии, авиакомпании   \n",
              "\n",
              "                        tr_description  tr_hour  \n",
              "0       Оплата услуги. Банкоматы СБ РФ       10  \n",
              "1       Оплата услуги. Банкоматы СБ РФ        7  \n",
              "2       Оплата услуги. Банкоматы СБ РФ        7  \n",
              "3       Оплата услуги. Банкоматы СБ РФ        8  \n",
              "4       Оплата услуги. Банкоматы СБ РФ       14  \n",
              "...                                ...      ...  \n",
              "999579      Возврат  покупки. ТУ СБ РФ       23  \n",
              "999580      Возврат  покупки. ТУ СБ РФ       19  \n",
              "999581      Возврат  покупки. ТУ СБ РФ       22  \n",
              "999582      Возврат  покупки. ТУ СБ РФ       23  \n",
              "999583      Возврат  покупки. ТУ СБ РФ       23  \n",
              "\n",
              "[999584 rows x 10 columns]"
            ],
            "text/html": [
              "\n",
              "  <div id=\"df-ccadd6e3-35ad-4b72-80bc-41c26e5f61b4\">\n",
              "    <div class=\"colab-df-container\">\n",
              "      <div>\n",
              "<style scoped>\n",
              "    .dataframe tbody tr th:only-of-type {\n",
              "        vertical-align: middle;\n",
              "    }\n",
              "\n",
              "    .dataframe tbody tr th {\n",
              "        vertical-align: top;\n",
              "    }\n",
              "\n",
              "    .dataframe thead th {\n",
              "        text-align: right;\n",
              "    }\n",
              "</style>\n",
              "<table border=\"1\" class=\"dataframe\">\n",
              "  <thead>\n",
              "    <tr style=\"text-align: right;\">\n",
              "      <th></th>\n",
              "      <th>customer_id</th>\n",
              "      <th>tr_datetime</th>\n",
              "      <th>mcc_code</th>\n",
              "      <th>tr_type</th>\n",
              "      <th>amount</th>\n",
              "      <th>term_id</th>\n",
              "      <th>gender</th>\n",
              "      <th>mcc_description</th>\n",
              "      <th>tr_description</th>\n",
              "      <th>tr_hour</th>\n",
              "    </tr>\n",
              "  </thead>\n",
              "  <tbody>\n",
              "    <tr>\n",
              "      <th>0</th>\n",
              "      <td>39026145</td>\n",
              "      <td>0 10:23:26</td>\n",
              "      <td>4814</td>\n",
              "      <td>1030</td>\n",
              "      <td>-2245.92</td>\n",
              "      <td>NaN</td>\n",
              "      <td>1.0</td>\n",
              "      <td>Звонки с использованием телефонов, считывающих...</td>\n",
              "      <td>Оплата услуги. Банкоматы СБ РФ</td>\n",
              "      <td>10</td>\n",
              "    </tr>\n",
              "    <tr>\n",
              "      <th>1</th>\n",
              "      <td>39026145</td>\n",
              "      <td>6 07:08:31</td>\n",
              "      <td>4814</td>\n",
              "      <td>1030</td>\n",
              "      <td>-5614.79</td>\n",
              "      <td>NaN</td>\n",
              "      <td>1.0</td>\n",
              "      <td>Звонки с использованием телефонов, считывающих...</td>\n",
              "      <td>Оплата услуги. Банкоматы СБ РФ</td>\n",
              "      <td>7</td>\n",
              "    </tr>\n",
              "    <tr>\n",
              "      <th>2</th>\n",
              "      <td>39026145</td>\n",
              "      <td>8 07:06:10</td>\n",
              "      <td>4814</td>\n",
              "      <td>1030</td>\n",
              "      <td>-1122.96</td>\n",
              "      <td>NaN</td>\n",
              "      <td>1.0</td>\n",
              "      <td>Звонки с использованием телефонов, считывающих...</td>\n",
              "      <td>Оплата услуги. Банкоматы СБ РФ</td>\n",
              "      <td>7</td>\n",
              "    </tr>\n",
              "    <tr>\n",
              "      <th>3</th>\n",
              "      <td>39026145</td>\n",
              "      <td>11 08:49:03</td>\n",
              "      <td>4814</td>\n",
              "      <td>1030</td>\n",
              "      <td>-2245.92</td>\n",
              "      <td>NaN</td>\n",
              "      <td>1.0</td>\n",
              "      <td>Звонки с использованием телефонов, считывающих...</td>\n",
              "      <td>Оплата услуги. Банкоматы СБ РФ</td>\n",
              "      <td>8</td>\n",
              "    </tr>\n",
              "    <tr>\n",
              "      <th>4</th>\n",
              "      <td>39026145</td>\n",
              "      <td>11 14:12:08</td>\n",
              "      <td>4814</td>\n",
              "      <td>1030</td>\n",
              "      <td>-2245.92</td>\n",
              "      <td>NaN</td>\n",
              "      <td>1.0</td>\n",
              "      <td>Звонки с использованием телефонов, считывающих...</td>\n",
              "      <td>Оплата услуги. Банкоматы СБ РФ</td>\n",
              "      <td>14</td>\n",
              "    </tr>\n",
              "    <tr>\n",
              "      <th>...</th>\n",
              "      <td>...</td>\n",
              "      <td>...</td>\n",
              "      <td>...</td>\n",
              "      <td>...</td>\n",
              "      <td>...</td>\n",
              "      <td>...</td>\n",
              "      <td>...</td>\n",
              "      <td>...</td>\n",
              "      <td>...</td>\n",
              "      <td>...</td>\n",
              "    </tr>\n",
              "    <tr>\n",
              "      <th>999579</th>\n",
              "      <td>36837532</td>\n",
              "      <td>18 23:38:60</td>\n",
              "      <td>3000</td>\n",
              "      <td>6000</td>\n",
              "      <td>1297824.89</td>\n",
              "      <td>NaN</td>\n",
              "      <td>NaN</td>\n",
              "      <td>Авиалинии, авиакомпании</td>\n",
              "      <td>Возврат  покупки. ТУ СБ РФ</td>\n",
              "      <td>23</td>\n",
              "    </tr>\n",
              "    <tr>\n",
              "      <th>999580</th>\n",
              "      <td>6808459</td>\n",
              "      <td>206 19:00:10</td>\n",
              "      <td>3000</td>\n",
              "      <td>6000</td>\n",
              "      <td>124693.24</td>\n",
              "      <td>NaN</td>\n",
              "      <td>NaN</td>\n",
              "      <td>Авиалинии, авиакомпании</td>\n",
              "      <td>Возврат  покупки. ТУ СБ РФ</td>\n",
              "      <td>19</td>\n",
              "    </tr>\n",
              "    <tr>\n",
              "      <th>999581</th>\n",
              "      <td>83759123</td>\n",
              "      <td>90 22:40:57</td>\n",
              "      <td>3000</td>\n",
              "      <td>6000</td>\n",
              "      <td>218976.79</td>\n",
              "      <td>NaN</td>\n",
              "      <td>NaN</td>\n",
              "      <td>Авиалинии, авиакомпании</td>\n",
              "      <td>Возврат  покупки. ТУ СБ РФ</td>\n",
              "      <td>22</td>\n",
              "    </tr>\n",
              "    <tr>\n",
              "      <th>999582</th>\n",
              "      <td>89619970</td>\n",
              "      <td>104 23:39:35</td>\n",
              "      <td>3000</td>\n",
              "      <td>6000</td>\n",
              "      <td>408307.49</td>\n",
              "      <td>NaN</td>\n",
              "      <td>NaN</td>\n",
              "      <td>Авиалинии, авиакомпании</td>\n",
              "      <td>Возврат  покупки. ТУ СБ РФ</td>\n",
              "      <td>23</td>\n",
              "    </tr>\n",
              "    <tr>\n",
              "      <th>999583</th>\n",
              "      <td>89619970</td>\n",
              "      <td>105 23:38:49</td>\n",
              "      <td>3000</td>\n",
              "      <td>6000</td>\n",
              "      <td>204153.74</td>\n",
              "      <td>NaN</td>\n",
              "      <td>NaN</td>\n",
              "      <td>Авиалинии, авиакомпании</td>\n",
              "      <td>Возврат  покупки. ТУ СБ РФ</td>\n",
              "      <td>23</td>\n",
              "    </tr>\n",
              "  </tbody>\n",
              "</table>\n",
              "<p>999584 rows × 10 columns</p>\n",
              "</div>\n",
              "      <button class=\"colab-df-convert\" onclick=\"convertToInteractive('df-ccadd6e3-35ad-4b72-80bc-41c26e5f61b4')\"\n",
              "              title=\"Convert this dataframe to an interactive table.\"\n",
              "              style=\"display:none;\">\n",
              "        \n",
              "  <svg xmlns=\"http://www.w3.org/2000/svg\" height=\"24px\"viewBox=\"0 0 24 24\"\n",
              "       width=\"24px\">\n",
              "    <path d=\"M0 0h24v24H0V0z\" fill=\"none\"/>\n",
              "    <path d=\"M18.56 5.44l.94 2.06.94-2.06 2.06-.94-2.06-.94-.94-2.06-.94 2.06-2.06.94zm-11 1L8.5 8.5l.94-2.06 2.06-.94-2.06-.94L8.5 2.5l-.94 2.06-2.06.94zm10 10l.94 2.06.94-2.06 2.06-.94-2.06-.94-.94-2.06-.94 2.06-2.06.94z\"/><path d=\"M17.41 7.96l-1.37-1.37c-.4-.4-.92-.59-1.43-.59-.52 0-1.04.2-1.43.59L10.3 9.45l-7.72 7.72c-.78.78-.78 2.05 0 2.83L4 21.41c.39.39.9.59 1.41.59.51 0 1.02-.2 1.41-.59l7.78-7.78 2.81-2.81c.8-.78.8-2.07 0-2.86zM5.41 20L4 18.59l7.72-7.72 1.47 1.35L5.41 20z\"/>\n",
              "  </svg>\n",
              "      </button>\n",
              "      \n",
              "  <style>\n",
              "    .colab-df-container {\n",
              "      display:flex;\n",
              "      flex-wrap:wrap;\n",
              "      gap: 12px;\n",
              "    }\n",
              "\n",
              "    .colab-df-convert {\n",
              "      background-color: #E8F0FE;\n",
              "      border: none;\n",
              "      border-radius: 50%;\n",
              "      cursor: pointer;\n",
              "      display: none;\n",
              "      fill: #1967D2;\n",
              "      height: 32px;\n",
              "      padding: 0 0 0 0;\n",
              "      width: 32px;\n",
              "    }\n",
              "\n",
              "    .colab-df-convert:hover {\n",
              "      background-color: #E2EBFA;\n",
              "      box-shadow: 0px 1px 2px rgba(60, 64, 67, 0.3), 0px 1px 3px 1px rgba(60, 64, 67, 0.15);\n",
              "      fill: #174EA6;\n",
              "    }\n",
              "\n",
              "    [theme=dark] .colab-df-convert {\n",
              "      background-color: #3B4455;\n",
              "      fill: #D2E3FC;\n",
              "    }\n",
              "\n",
              "    [theme=dark] .colab-df-convert:hover {\n",
              "      background-color: #434B5C;\n",
              "      box-shadow: 0px 1px 3px 1px rgba(0, 0, 0, 0.15);\n",
              "      filter: drop-shadow(0px 1px 2px rgba(0, 0, 0, 0.3));\n",
              "      fill: #FFFFFF;\n",
              "    }\n",
              "  </style>\n",
              "\n",
              "      <script>\n",
              "        const buttonEl =\n",
              "          document.querySelector('#df-ccadd6e3-35ad-4b72-80bc-41c26e5f61b4 button.colab-df-convert');\n",
              "        buttonEl.style.display =\n",
              "          google.colab.kernel.accessAllowed ? 'block' : 'none';\n",
              "\n",
              "        async function convertToInteractive(key) {\n",
              "          const element = document.querySelector('#df-ccadd6e3-35ad-4b72-80bc-41c26e5f61b4');\n",
              "          const dataTable =\n",
              "            await google.colab.kernel.invokeFunction('convertToInteractive',\n",
              "                                                     [key], {});\n",
              "          if (!dataTable) return;\n",
              "\n",
              "          const docLinkHtml = 'Like what you see? Visit the ' +\n",
              "            '<a target=\"_blank\" href=https://colab.research.google.com/notebooks/data_table.ipynb>data table notebook</a>'\n",
              "            + ' to learn more about interactive tables.';\n",
              "          element.innerHTML = '';\n",
              "          dataTable['output_type'] = 'display_data';\n",
              "          await google.colab.output.renderOutput(dataTable, element);\n",
              "          const docLink = document.createElement('div');\n",
              "          docLink.innerHTML = docLinkHtml;\n",
              "          element.appendChild(docLink);\n",
              "        }\n",
              "      </script>\n",
              "    </div>\n",
              "  </div>\n",
              "  "
            ]
          },
          "metadata": {},
          "execution_count": 37
        }
      ]
    },
    {
      "cell_type": "code",
      "source": [
        "night_tr = transactions[transactions.amount < 0][transactions.tr_hour < 6].groupby(['gender'])['amount'].sum()\n",
        "night_tr"
      ],
      "metadata": {
        "colab": {
          "base_uri": "https://localhost:8080/"
        },
        "id": "BWqx7nhuUBiq",
        "outputId": "551fe06b-a913-4c32-f739-df66bb8d9eba"
      },
      "execution_count": null,
      "outputs": [
        {
          "output_type": "stream",
          "name": "stderr",
          "text": [
            "/usr/local/lib/python3.7/dist-packages/ipykernel_launcher.py:1: UserWarning: Boolean Series key will be reindexed to match DataFrame index.\n",
            "  \"\"\"Entry point for launching an IPython kernel.\n"
          ]
        },
        {
          "output_type": "execute_result",
          "data": {
            "text/plain": [
              "gender\n",
              "0.0   -1.672008e+09\n",
              "1.0   -2.573020e+09\n",
              "Name: amount, dtype: float64"
            ]
          },
          "metadata": {},
          "execution_count": 39
        }
      ]
    }
  ]
}