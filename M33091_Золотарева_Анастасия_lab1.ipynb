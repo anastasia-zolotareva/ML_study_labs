{
  "nbformat": 4,
  "nbformat_minor": 0,
  "metadata": {
    "colab": {
      "provenance": []
    },
    "kernelspec": {
      "display_name": "Python 3",
      "language": "python",
      "name": "python3"
    },
    "language_info": {
      "codemirror_mode": {
        "name": "ipython",
        "version": 3
      },
      "file_extension": ".py",
      "mimetype": "text/x-python",
      "name": "python",
      "nbconvert_exporter": "python",
      "pygments_lexer": "ipython3",
      "version": "3.7.4"
    }
  },
  "cells": [
    {
      "cell_type": "markdown",
      "source": [
        "Перед началом выполнения, сделайте копию этого colab'а. Чтобы сделать копию нужно в пункте меню Файл выбрать \"Сохранить копию на диске\""
      ],
      "metadata": {
        "id": "131T1pm5PaF4"
      }
    },
    {
      "cell_type": "markdown",
      "metadata": {
        "id": "BsNwjQDRfmLY"
      },
      "source": [
        "# Задание 1"
      ]
    },
    {
      "cell_type": "markdown",
      "metadata": {
        "id": "wu6r1-s7fmLe"
      },
      "source": [
        "---"
      ]
    },
    {
      "cell_type": "markdown",
      "metadata": {
        "id": "zxRIdPO9gYyX"
      },
      "source": [
        "Напишите программу, которая будет решать систему линейных уравнений вида:\n",
        "\n",
        "\\begin{matrix} a_{11}x+a_{12}y=b_{1}&(1) \\\\ a_{21}x+a_{22}y=b_{2} &(2) \\end{matrix}\n",
        "​\n",
        "На вход программа должна принимать 2 строки.\n",
        "\n",
        "Каждая строка содержит 3 действительных числа через пробел: коэффициенты a и b.\n",
        "\n",
        "На выходе программа должна выдавать значения x и y в одну строку через пробел.\n",
        "\n",
        "\n",
        "Примечание 1. Для разделения строки на отдельные элементы используйте функцию split()\n",
        "\n",
        "Примечание 2. В качестве разделителя между целой и дробной частью используйте точку, например 0.2"
      ]
    },
    {
      "cell_type": "code",
      "metadata": {
        "id": "6sxlcLbVlrjl",
        "colab": {
          "base_uri": "https://localhost:8080/",
          "height": 318
        },
        "outputId": "b86982a5-413c-4997-ddc0-05f48df7b355"
      },
      "source": [
        "import numpy as np\n",
        "import matplotlib.pyplot as plt\n",
        "\n",
        "def linan(matrix, vector):\n",
        "  if matrix[0][0] * matrix[1][1] == matrix[0][1] * matrix[1][0] and matrix[0][0] * vector[1] == vector[0] * matrix[1][0]:\n",
        "    return 'inf ans'\n",
        "  if (np.linalg.det(matrix) == 0):\n",
        "    return 'no answers'\n",
        "  else:\n",
        "    np.linalg.solve(matrix, vector)\n",
        "\n",
        "# enter you code\n",
        "str1 = input()\n",
        "str2 = input()\n",
        "\n",
        "a11, a12, b1 = str1.split(' ')\n",
        "a21, a22, b2 = str2.split(' ')\n",
        "\n",
        "matrix = np.array([[a11, a12], [a21, a22]], dtype=np.float64)\n",
        "vector = np.array([b1, b2], dtype=np.float64)\n",
        "\n",
        "ans = linan(matrix, vector)\n",
        "print(ans)\n",
        "\n",
        "l = -10\n",
        "r = 10\n",
        "x = np.linspace(l, r, 100000)\n",
        "\n",
        "def func1(x, a1, a2, b):\n",
        "  return (float(b) - float(a1) * x) / float(a2)\n",
        "\n",
        "plt.plot(x, func1(x, a11, a12, b1))\n",
        "plt.plot(x, func1(x, a21, a22, b2))\n",
        "plt.show()\n",
        "\n"
      ],
      "execution_count": null,
      "outputs": [
        {
          "output_type": "stream",
          "name": "stdout",
          "text": [
            "2 4 9\n",
            "2 4 12\n",
            "no answers\n"
          ]
        },
        {
          "output_type": "display_data",
          "data": {
            "text/plain": [
              "<Figure size 432x288 with 1 Axes>"
            ],
            "image/png": "[encoded data removed]"
          },
          "metadata": {
            "needs_background": "light"
          }
        }
      ]
    },
    {
      "cell_type": "markdown",
      "source": [
        "### Подсказка 1"
      ],
      "metadata": {
        "id": "kElPCFyiua9I"
      }
    },
    {
      "cell_type": "code",
      "source": [],
      "metadata": {
        "id": "jwjE2xldue0h"
      },
      "execution_count": null,
      "outputs": []
    },
    {
      "cell_type": "markdown",
      "metadata": {
        "id": "wLoVDMQnfmOv"
      },
      "source": [
        "# Задание 2"
      ]
    },
    {
      "cell_type": "markdown",
      "metadata": {
        "id": "6bmt_YF3fmOw"
      },
      "source": [
        "Напишите функцию `decorate_matrix`, которая получает на вход одно целое число больше единицы. Функция должна возвращать матрицу n на n, у которой на границах стоят единицы, а на всех остальных позициях(если остались позиции не на границах) стоят нули.\n",
        "\n",
        "Нужно сделать без использования  циклов.\n",
        "\n",
        "```\n",
        "# ожидаемый резальтат для аргумента 5\n",
        "array([[1., 1., 1., 1., 1.],\n",
        "[1., 0., 0., 0., 1.],\n",
        "[1., 0., 0., 0., 1.],\n",
        "[1., 0., 0., 0., 1.],\n",
        "[1., 1., 1., 1., 1.]])\n",
        "```\n",
        "\n"
      ]
    },
    {
      "cell_type": "code",
      "source": [
        "import numpy as np\n",
        "\n",
        "def decorate_matrix(n):\n",
        "  # create ones n-matrix\n",
        "  matrix = np.ones((n, n))\n",
        "  # make 1:n-1 in rows and cols elements = 0\n",
        "  matrix[1: n-1, 1: n-1] = 0\n",
        "  return matrix\n",
        "\n",
        "n = int(input())\n",
        "print(decorate_matrix(n))"
      ],
      "metadata": {
        "colab": {
          "base_uri": "https://localhost:8080/"
        },
        "id": "dFjPbV-r2G8I",
        "outputId": "fbd592d7-5c4d-458b-d29e-30d971cbf23b"
      },
      "execution_count": null,
      "outputs": [
        {
          "output_type": "stream",
          "name": "stdout",
          "text": [
            "5\n",
            "[[1. 1. 1. 1. 1.]\n",
            " [1. 0. 0. 0. 1.]\n",
            " [1. 0. 0. 0. 1.]\n",
            " [1. 0. 0. 0. 1.]\n",
            " [1. 1. 1. 1. 1.]]\n"
          ]
        }
      ]
    },
    {
      "cell_type": "markdown",
      "metadata": {
        "id": "75sxny1zSCbl"
      },
      "source": [
        "# Задание 3"
      ]
    },
    {
      "cell_type": "markdown",
      "metadata": {
        "id": "2Xq1tBBAS5UJ"
      },
      "source": [
        "1) реализуйте 2 функции:\n",
        "\n",
        "$f(x) = (x+a)^2 - b$\n",
        "\n",
        "$g(x) = |f(x)|$\n",
        "\n",
        "2) Найдите аргументы, при которых достигается минимум функций $f(x)$ и $g(x)$\n",
        "\n",
        "Пример.\n",
        "Входные значение: $a=3$ и $b=4$\n",
        "\n",
        "Выходные значения:\n",
        "\n",
        "`-3.0 -1.0`"
      ]
    },
    {
      "cell_type": "code",
      "source": [
        "import numpy as np\n",
        "from scipy.optimize import golden\n",
        "\n",
        "# func f(x)\n",
        "def funcf(x, a, b):\n",
        "  return (x + a) ** 2 - b\n",
        "\n",
        "# func g(x)\n",
        "def funcg(x, a, b):\n",
        "  return abs(funcf(x, a, b))\n",
        "\n",
        "# find min\n",
        "# Fibonachi func\n",
        "def FibonachiNumber(n):\n",
        "    n = n + 1\n",
        "    f = 1 / np.sqrt(5) * (((1 + np.sqrt(5)) / 2) ** n - ((1 - np.sqrt(5)) /2) ** n)\n",
        "    return f\n",
        "# Fibonachi method\n",
        "def Fibonachi(l, r, a, b, func, epsilon = 0.000001):\n",
        "    fn = 0 # func counting number\n",
        "    ans = (l + r) / 2\n",
        "    n = 1\n",
        "    while (FibonachiNumber(n) <= (b - l) / epsilon):\n",
        "        n = n + 1\n",
        "    x1 = l + (r - l) * FibonachiNumber(n - 2) / FibonachiNumber(n)\n",
        "    x2 = l + (r - l) * FibonachiNumber(n - 1) / FibonachiNumber(n)\n",
        "    f1 = func(x1, a, b)\n",
        "    f2 = func(x2, a, b)\n",
        "    fn = fn + 2\n",
        "    while(n > 2):\n",
        "        if (f1 < f2):\n",
        "            r = x2\n",
        "            x2 = x1\n",
        "            f2 = f1\n",
        "            n=n-1\n",
        "            x1 = l + (r - l) * FibonachiNumber(n - 2) / FibonachiNumber(n)\n",
        "            f1 = func(x1, a, b)\n",
        "        else:\n",
        "            l = x1\n",
        "            x1 = x2\n",
        "            f1 = f2\n",
        "            n=n-1\n",
        "            x2 = l + (r - l) * FibonachiNumber(n - 1) / FibonachiNumber(n)\n",
        "            f2 = func(x2, a, b)\n",
        "        fn = fn + 1\n",
        "        ans = (l + r) / 2\n",
        "    return ans\n",
        "\n",
        "a = int(input())\n",
        "b = int(input())\n",
        "l = -10\n",
        "r = 10\n",
        "\n",
        "min_xf = Fibonachi(l, r, a, b, funcf)\n",
        "min_xg1 = Fibonachi(l, r, a, b, funcg)\n",
        "min_xg2 = Fibonachi(min_xg1 + 1, r, a, b, funcg)\n",
        "\n",
        "# check\n",
        "one_min_g = False\n",
        "min_xg = 0.0\n",
        "if (abs(funcg(min_xg1, a, b) - funcg(min_xg2, a, b)) > 0.000001):\n",
        "  one_min_g = True\n",
        "  if funcg(min_xg1, a, b) > funcg(min_xg2, a, b):\n",
        "    min_xg = min_xg2\n",
        "  else:\n",
        "    min_xg = min_xg1\n",
        "\n",
        "\n",
        "# as it is symmetric\n",
        "#min_xg1 = golden(lambda x:funcg(x, a, b), (l, r))\n",
        "#min_xg2 = golden(lambda x:funcg(x, a, b), (min_xg1 + 1, r))\n",
        "#min_xg1 = basinhopping(lambda x:funcg(x, a, b), l)\n",
        "\n",
        "#print(f'{min_xf:.1f}', f'{min_xg:.1f}')\n",
        "if (one_min_g):\n",
        "  print(f'{min_xf:.1f}', f'{min_xg:.1f}')\n",
        "else:\n",
        "  print('[', f'{min_xf:.1f}', '] [', f'{min_xg1:.1f}', f'{min_xg2:.1f}', ']')"
      ],
      "metadata": {
        "colab": {
          "base_uri": "https://localhost:8080/"
        },
        "id": "13WjRsK135u_",
        "outputId": "8808d34e-d413-4ddd-934e-c13096be5c58"
      },
      "execution_count": null,
      "outputs": [
        {
          "output_type": "stream",
          "name": "stdout",
          "text": [
            "3\n",
            "4\n",
            "[ -3.0 ] [ -5.0 -1.0 ]\n"
          ]
        }
      ]
    },
    {
      "cell_type": "markdown",
      "metadata": {
        "id": "efml9GzISC9Q"
      },
      "source": [
        "# Задание 4"
      ]
    },
    {
      "cell_type": "markdown",
      "metadata": {
        "id": "SDZvKcsTVbAW"
      },
      "source": [
        "Постройте графики для функций из предыдущего задания и отметьте другим цветом на графиках точки найденных минимумов."
      ]
    },
    {
      "cell_type": "code",
      "source": [
        "import matplotlib.pyplot as plt\n",
        "\n",
        "def show_plots(a, b, x, funcf, funcg, min_xf, min_xg1, min_xg2, one_min_g, min_xg):\n",
        "  plt.plot(x, funcf(x, a, b))\n",
        "  plt.plot(x, funcg(x, a, b))\n",
        "  plt.grid()\n",
        "\n",
        "  plt.scatter(min_xf, funcf(min_xf, a, b), c='r')\n",
        "  if one_min_g:\n",
        "    plt.scatter(min_xg, funcg(min_xg, a, b), c='b')\n",
        "  else:\n",
        "    plt.scatter(min_xg1, funcg(min_xg1, a, b), c='b')\n",
        "    plt.scatter(min_xg2, funcg(min_xg2, a, b), c='g')\n",
        "\n",
        "  plt.ylabel(\"y\")\n",
        "  plt.xlabel(\"x\")\n",
        "  plt.show()\n",
        "\n",
        "l = -10\n",
        "r = 10\n",
        "x = np.linspace(l, r, 100000)\n",
        "show_plots(a, b, x, funcf, funcg, min_xf, min_xg1, min_xg2, one_min_g, min_xg)\n"
      ],
      "metadata": {
        "colab": {
          "base_uri": "https://localhost:8080/",
          "height": 279
        },
        "id": "R_FIhzDbJ1uK",
        "outputId": "a83c1c6a-9915-45c1-e061-bf6782766b17"
      },
      "execution_count": null,
      "outputs": [
        {
          "output_type": "display_data",
          "data": {
            "text/plain": [
              "<Figure size 432x288 with 1 Axes>"
            ],
            "image/png": "[encoded data removed]"
          },
          "metadata": {
            "needs_background": "light"
          }
        }
      ]
    },
    {
      "cell_type": "markdown",
      "metadata": {
        "id": "mrby3EfiSDKJ"
      },
      "source": [
        "# Задание 5"
      ]
    },
    {
      "cell_type": "markdown",
      "metadata": {
        "id": "J6AZ8785VkQd"
      },
      "source": [
        "1000 человек бросают монетку. Каждый бросил 10 раз подряд.\n",
        "\n",
        " 1. Какова вероятность того, что хотя бы у одного человека монетка выпала 10 раз подряд той же самой стороной (орлом или решкой)?\n",
        " 2. Какова вероятность того, что хотя бы у одного человека монетка выпала 8 раз подряд той же самой стороной (орлом или решкой)?\n",
        " 3. Какова вероятность того, что ровно у троих человек из 1000 монетка выпала 10 раз подряд той же самой стороной (орлом или решкой)?"
      ]
    },
    {
      "cell_type": "code",
      "source": [
        "from math import exp\n",
        "import numpy as np\n",
        "\n",
        "def count_dst(n=1, p=0.5, size=10):\n",
        "  return np.random.binomial(1, 0.5, 10)\n",
        "\n",
        "def amount_of_repeats1(t):\n",
        "  return t == 10\n",
        "\n",
        "def amount_of_repeats2(t):\n",
        "  return t >= 8\n",
        "\n",
        "def amount_of_people1(k):\n",
        "  return k >= 1\n",
        "\n",
        "def amount_of_people2(k):\n",
        "  return k == 3\n",
        "\n",
        "# repeats experiment with coin any 'times' need\n",
        "# where are n people participate, count amount of coin side repeats by chosen func\n",
        "# and amount of people func - how much of them are expected to get the result\n",
        "def experiment(amount_of_repeats, amount_of_people, n, times):\n",
        "  l = 0\n",
        "  for i in range(times):\n",
        "    k = 0\n",
        "    for j in range(n):\n",
        "      dst = count_dst()\n",
        "      t = 1\n",
        "      for x in range(10 - 1):\n",
        "        if dst[x] == dst[x - 1]:\n",
        "          t += 1\n",
        "        else:\n",
        "          t = 1\n",
        "      if amount_of_repeats(t):\n",
        "        k += 1\n",
        "    if amount_of_people(k):\n",
        "      l += 1\n",
        "  return l / times\n",
        "\n",
        "print(experiment(amount_of_repeats1, amount_of_people1, 1000, 1000))\n",
        "print(experiment(amount_of_repeats2, amount_of_people1, 1000, 1000))\n",
        "print(experiment(amount_of_repeats1, amount_of_people2, 1000, 1000))\n"
      ],
      "metadata": {
        "colab": {
          "base_uri": "https://localhost:8080/"
        },
        "id": "yORpm3VzVx4m",
        "outputId": "bbe36660-85fc-4bab-c125-bc8fbc274e5d"
      },
      "execution_count": null,
      "outputs": [
        {
          "output_type": "stream",
          "name": "stdout",
          "text": [
            "0.859\n",
            "1.0\n",
            "0.184\n"
          ]
        }
      ]
    }
  ]
}