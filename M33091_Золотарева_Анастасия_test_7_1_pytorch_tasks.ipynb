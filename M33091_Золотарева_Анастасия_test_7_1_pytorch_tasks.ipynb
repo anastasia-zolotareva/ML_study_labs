{
  "nbformat": 4,
  "nbformat_minor": 0,
  "metadata": {
    "colab": {
      "provenance": [],
      "collapsed_sections": [
        "W2MyCTc7B99C",
        "feo3ltq_CIlZ"
      ]
    },
    "kernelspec": {
      "display_name": "Python 3",
      "language": "python",
      "name": "python3"
    },
    "language_info": {
      "codemirror_mode": {
        "name": "ipython",
        "version": 3
      },
      "file_extension": ".py",
      "mimetype": "text/x-python",
      "name": "python",
      "nbconvert_exporter": "python",
      "pygments_lexer": "ipython3",
      "version": "3.6.5"
    },
    "accelerator": "GPU",
    "gpuClass": "standard"
  },
  "cells": [
    {
      "cell_type": "markdown",
      "metadata": {
        "id": "vcnGdgw_YJ8u"
      },
      "source": [
        "# PyTorch. Основы: синтаксис, torch.cuda и torch.autograd\n",
        "\n",
        "## Задание 7.1"
      ]
    },
    {
      "cell_type": "code",
      "metadata": {
        "id": "RtyozNmmYJ89"
      },
      "source": [
        "import torch\n",
        "import matplotlib.pyplot as plt"
      ],
      "execution_count": null,
      "outputs": []
    },
    {
      "cell_type": "markdown",
      "metadata": {
        "id": "ny4-Qi2wYJ-6"
      },
      "source": [
        "### Задача 1"
      ]
    },
    {
      "cell_type": "markdown",
      "metadata": {
        "id": "IWxlFq0bYJ-_"
      },
      "source": [
        "1). Создайте два вещественных тензора: `a` размером (3, 4) и `b` размером (12,)   \n",
        "2). Создайте тензор `c`, являющийся тензором `b`, но размера (2, 2, 3)  \n",
        "3). Выведите первый столбец матрицы `a` с помощью индексации"
      ]
    },
    {
      "cell_type": "code",
      "metadata": {
        "id": "3oxZuk3yYJ_A"
      },
      "source": [
        "a = torch.randint(1, 10, (3,4))\n",
        "b = torch.randint(1, 10, (12,))\n",
        "c = b.reshape(2,2,3)"
      ],
      "execution_count": null,
      "outputs": []
    },
    {
      "cell_type": "code",
      "source": [
        "a"
      ],
      "metadata": {
        "colab": {
          "base_uri": "https://localhost:8080/"
        },
        "id": "8y2CDQBkpsS7",
        "outputId": "0b6615b4-3ab0-4201-a616-8211e663bb23"
      },
      "execution_count": null,
      "outputs": [
        {
          "output_type": "execute_result",
          "data": {
            "text/plain": [
              "tensor([[6, 3, 1, 1],\n",
              "        [4, 2, 9, 1],\n",
              "        [5, 8, 8, 6]])"
            ]
          },
          "metadata": {},
          "execution_count": 3
        }
      ]
    },
    {
      "cell_type": "code",
      "source": [
        "b"
      ],
      "metadata": {
        "colab": {
          "base_uri": "https://localhost:8080/"
        },
        "id": "DSOhRS9cptJj",
        "outputId": "02baae79-8b97-4130-f43b-cc9230ce4e84"
      },
      "execution_count": null,
      "outputs": [
        {
          "output_type": "execute_result",
          "data": {
            "text/plain": [
              "tensor([9, 1, 8, 1, 8, 5, 4, 4, 9, 1, 1, 4])"
            ]
          },
          "metadata": {},
          "execution_count": 4
        }
      ]
    },
    {
      "cell_type": "code",
      "source": [
        "c"
      ],
      "metadata": {
        "colab": {
          "base_uri": "https://localhost:8080/"
        },
        "id": "LDUIKAijpuc6",
        "outputId": "6e13adaf-5fc5-4563-c17a-a0900ff58894"
      },
      "execution_count": null,
      "outputs": [
        {
          "output_type": "execute_result",
          "data": {
            "text/plain": [
              "tensor([[[9, 1, 8],\n",
              "         [1, 8, 5]],\n",
              "\n",
              "        [[4, 4, 9],\n",
              "         [1, 1, 4]]])"
            ]
          },
          "metadata": {},
          "execution_count": 5
        }
      ]
    },
    {
      "cell_type": "code",
      "source": [
        "a[:,0]"
      ],
      "metadata": {
        "colab": {
          "base_uri": "https://localhost:8080/"
        },
        "id": "hr-_fG9hdsIe",
        "outputId": "9b7573f4-e9f4-4755-e82b-ce44f1fb0c8c"
      },
      "execution_count": null,
      "outputs": [
        {
          "output_type": "execute_result",
          "data": {
            "text/plain": [
              "tensor([6, 4, 5])"
            ]
          },
          "metadata": {},
          "execution_count": 6
        }
      ]
    },
    {
      "cell_type": "markdown",
      "metadata": {
        "id": "D2IP_FrKYKAA"
      },
      "source": [
        "### Задача 2"
      ]
    },
    {
      "cell_type": "markdown",
      "metadata": {
        "id": "tBZFbSYQYKAA"
      },
      "source": [
        "1). Создайте два вещественных тензора: `a` размером (5, 2) и `b` размером (1,10)   \n",
        "2). Создайте тензор `c`, являющийся тензором `b`, но размера (5, 2)  \n",
        "3). Произведите все арифметические операции с тензорами `a` и `c`"
      ]
    },
    {
      "cell_type": "code",
      "metadata": {
        "id": "hzs2bH3GYKAB"
      },
      "source": [
        "a = torch.randint(1, 10, (5, 2))\n",
        "b = torch.randint(1, 10, (1, 10))\n",
        "c = b.reshape(5, 2)"
      ],
      "execution_count": null,
      "outputs": []
    },
    {
      "cell_type": "code",
      "source": [
        "print(a)\n",
        "print(c)"
      ],
      "metadata": {
        "colab": {
          "base_uri": "https://localhost:8080/"
        },
        "id": "X2I-qTc31JVh",
        "outputId": "29a3d4e4-e437-4ce5-dc18-fc337515d97a"
      },
      "execution_count": null,
      "outputs": [
        {
          "output_type": "stream",
          "name": "stdout",
          "text": [
            "tensor([[7, 6],\n",
            "        [6, 9],\n",
            "        [1, 1],\n",
            "        [6, 4],\n",
            "        [7, 5]])\n",
            "tensor([[2, 6],\n",
            "        [5, 1],\n",
            "        [8, 4],\n",
            "        [4, 7],\n",
            "        [6, 7]])\n"
          ]
        }
      ]
    },
    {
      "cell_type": "code",
      "source": [
        "a + c"
      ],
      "metadata": {
        "colab": {
          "base_uri": "https://localhost:8080/"
        },
        "id": "WD7ub4Qt1Cu-",
        "outputId": "2a092ff3-3bdc-418d-d3d3-742e2a641a58"
      },
      "execution_count": null,
      "outputs": [
        {
          "output_type": "execute_result",
          "data": {
            "text/plain": [
              "tensor([[ 9, 12],\n",
              "        [11, 10],\n",
              "        [ 9,  5],\n",
              "        [10, 11],\n",
              "        [13, 12]])"
            ]
          },
          "metadata": {},
          "execution_count": 34
        }
      ]
    },
    {
      "cell_type": "code",
      "source": [
        "a - c"
      ],
      "metadata": {
        "colab": {
          "base_uri": "https://localhost:8080/"
        },
        "id": "NXhYcapqd6lV",
        "outputId": "8b7234ed-a2e4-4e14-dfcb-45fba34cbdda"
      },
      "execution_count": null,
      "outputs": [
        {
          "output_type": "execute_result",
          "data": {
            "text/plain": [
              "tensor([[ 5,  0],\n",
              "        [ 1,  8],\n",
              "        [-7, -3],\n",
              "        [ 2, -3],\n",
              "        [ 1, -2]])"
            ]
          },
          "metadata": {},
          "execution_count": 35
        }
      ]
    },
    {
      "cell_type": "code",
      "source": [
        "a * c"
      ],
      "metadata": {
        "colab": {
          "base_uri": "https://localhost:8080/"
        },
        "id": "hkcL_QlQ1QYI",
        "outputId": "a68b0d70-62b1-46c9-9cb7-30084db60287"
      },
      "execution_count": null,
      "outputs": [
        {
          "output_type": "execute_result",
          "data": {
            "text/plain": [
              "tensor([[14, 36],\n",
              "        [30,  9],\n",
              "        [ 8,  4],\n",
              "        [24, 28],\n",
              "        [42, 35]])"
            ]
          },
          "metadata": {},
          "execution_count": 36
        }
      ]
    },
    {
      "cell_type": "code",
      "source": [
        "a/c"
      ],
      "metadata": {
        "colab": {
          "base_uri": "https://localhost:8080/"
        },
        "id": "0cMUAQ7Hd96P",
        "outputId": "5edab6e5-1d74-4f6d-bd2e-ea99f5528cbc"
      },
      "execution_count": null,
      "outputs": [
        {
          "output_type": "execute_result",
          "data": {
            "text/plain": [
              "tensor([[3.5000, 1.0000],\n",
              "        [1.2000, 9.0000],\n",
              "        [0.1250, 0.2500],\n",
              "        [1.5000, 0.5714],\n",
              "        [1.1667, 0.7143]])"
            ]
          },
          "metadata": {},
          "execution_count": 37
        }
      ]
    },
    {
      "cell_type": "code",
      "source": [
        "a.transpose(-2, 1) @ c"
      ],
      "metadata": {
        "colab": {
          "base_uri": "https://localhost:8080/"
        },
        "id": "qfCfuBl41VCi",
        "outputId": "62a96f4e-0067-4959-d382-4f076e2a1810"
      },
      "execution_count": null,
      "outputs": [
        {
          "output_type": "execute_result",
          "data": {
            "text/plain": [
              "tensor([[118, 143],\n",
              "        [111, 112]])"
            ]
          },
          "metadata": {},
          "execution_count": 38
        }
      ]
    },
    {
      "cell_type": "code",
      "source": [
        "a @ c.transpose(-2, 1)"
      ],
      "metadata": {
        "colab": {
          "base_uri": "https://localhost:8080/"
        },
        "id": "qqEZv4tC2q2k",
        "outputId": "9c618797-4af3-4557-fb66-881b2ff796dd"
      },
      "execution_count": null,
      "outputs": [
        {
          "output_type": "execute_result",
          "data": {
            "text/plain": [
              "tensor([[50, 41, 80, 70, 84],\n",
              "        [66, 39, 84, 87, 99],\n",
              "        [ 8,  6, 12, 11, 13],\n",
              "        [36, 34, 64, 52, 64],\n",
              "        [44, 40, 76, 63, 77]])"
            ]
          },
          "metadata": {},
          "execution_count": 39
        }
      ]
    },
    {
      "cell_type": "markdown",
      "metadata": {
        "id": "rIaroFO6YKBT"
      },
      "source": [
        "### Задача 3"
      ]
    },
    {
      "cell_type": "markdown",
      "metadata": {
        "id": "GfLHVvKvYKBT"
      },
      "source": [
        "1). Создайте тензор *целых чисел* `images` размерности (100, 200, 200, 3) (можно интерпретировать это как 100 картинок размера 200х200 с тремя цветовыми каналами, то есть 100 цветных изображений 200х200). Заполните его нулями  \n",
        "\n",
        "2). Сделайте так, чтобы у $i$-ой по порядку картинки была нарисована белая полоса толщиной два пикселя в строках, которые соответствуют номеру картинки. Например, у 3-ей по порядку картинки белая полоска будет занимать 6 и 7 строки, у 99 - 198 и 199. Сделать белую строку можно, записав в ячейки тензора число 255 (по всем трём каналам). Выведите несколько примеров с помощью `pylot`  \n",
        "\n",
        "3). Посчитайте среднее тензора `images` по 1-ой оси (по сути - средняя картинка), умножьте полученный тензор на 70. Нарисуйте с помощью `pyplot`, должна получиться серая картинка (при взятии среднего нужно привести тензор к float с помощью `.float()`, при отрисовке обратно к int с помощью `.int()`)"
      ]
    },
    {
      "cell_type": "markdown",
      "source": [
        "#### Ответ 1:"
      ],
      "metadata": {
        "id": "W2MyCTc7B99C"
      }
    },
    {
      "cell_type": "code",
      "metadata": {
        "id": "pZVGHEQQYKBU"
      },
      "source": [
        "images = torch.zeros((100, 200, 200, 3))"
      ],
      "execution_count": null,
      "outputs": []
    },
    {
      "cell_type": "markdown",
      "source": [
        "#### Ответ 2:"
      ],
      "metadata": {
        "id": "feo3ltq_CIlZ"
      }
    },
    {
      "cell_type": "code",
      "source": [
        "def change_line(i, tens):\n",
        "    tens[i,(i*2):(i*2 + 2),:] = torch.tensor([255, 255, 255])\n",
        "    plt.figure(figsize=(10, 10))\n",
        "    plt.imshow(tens[i].int())\n",
        "change_line(3, images)"
      ],
      "metadata": {
        "colab": {
          "base_uri": "https://localhost:8080/",
          "height": 594
        },
        "id": "ZGdx5b-k3UtF",
        "outputId": "25c89f11-e246-451a-bf94-d136d5615781"
      },
      "execution_count": null,
      "outputs": [
        {
          "output_type": "display_data",
          "data": {
            "text/plain": [
              "<Figure size 720x720 with 1 Axes>"
            ],
            "image/png": "[encoded data removed]"
          },
          "metadata": {
            "needs_background": "light"
          }
        }
      ]
    },
    {
      "cell_type": "code",
      "source": [
        "change_line(50, images)"
      ],
      "metadata": {
        "colab": {
          "base_uri": "https://localhost:8080/",
          "height": 594
        },
        "id": "mVWrY_31AG1C",
        "outputId": "fccda3ed-8325-414f-f537-8c6f74125ba7"
      },
      "execution_count": null,
      "outputs": [
        {
          "output_type": "display_data",
          "data": {
            "text/plain": [
              "<Figure size 720x720 with 1 Axes>"
            ],
            "image/png": "[encoded data removed]"
          },
          "metadata": {
            "needs_background": "light"
          }
        }
      ]
    },
    {
      "cell_type": "code",
      "source": [
        "change_line(99, images)"
      ],
      "metadata": {
        "colab": {
          "base_uri": "https://localhost:8080/",
          "height": 594
        },
        "id": "Zgnec8H4Bw5M",
        "outputId": "d82cda72-2922-47da-a6b9-aeb88b395697"
      },
      "execution_count": null,
      "outputs": [
        {
          "output_type": "display_data",
          "data": {
            "text/plain": [
              "<Figure size 720x720 with 1 Axes>"
            ],
            "image/png": "[encoded data removed]"
          },
          "metadata": {
            "needs_background": "light"
          }
        }
      ]
    },
    {
      "cell_type": "code",
      "source": [
        "def change_line(i, tens):\n",
        "    tens[i,(i*2):(i*2 + 2),:] = torch.tensor([255, 255, 255])\n",
        "for i in range(100):\n",
        "  change_line(i, images)"
      ],
      "metadata": {
        "id": "3XZ5LowDkfEz"
      },
      "execution_count": null,
      "outputs": []
    },
    {
      "cell_type": "code",
      "source": [
        "plt.figure(figsize=(10, 10))\n",
        "plt.imshow(images[1].int())"
      ],
      "metadata": {
        "colab": {
          "base_uri": "https://localhost:8080/",
          "height": 612
        },
        "id": "mqT8JYHmNszy",
        "outputId": "57a98748-f00b-46d2-b7d6-e20c2c6f64a6"
      },
      "execution_count": null,
      "outputs": [
        {
          "output_type": "execute_result",
          "data": {
            "text/plain": [
              "<matplotlib.image.AxesImage at 0x7f055acd3d00>"
            ]
          },
          "metadata": {},
          "execution_count": 15
        },
        {
          "output_type": "display_data",
          "data": {
            "text/plain": [
              "<Figure size 720x720 with 1 Axes>"
            ],
            "image/png": "[encoded data removed]"
          },
          "metadata": {
            "needs_background": "light"
          }
        }
      ]
    },
    {
      "cell_type": "code",
      "source": [
        "plt.figure(figsize=(10, 10))\n",
        "plt.imshow(images[10].int())"
      ],
      "metadata": {
        "colab": {
          "base_uri": "https://localhost:8080/",
          "height": 612
        },
        "id": "EfDC6sp-N9OK",
        "outputId": "d76eeb94-850b-4905-8e22-73a3ff1eab3d"
      },
      "execution_count": null,
      "outputs": [
        {
          "output_type": "execute_result",
          "data": {
            "text/plain": [
              "<matplotlib.image.AxesImage at 0x7f055ac352b0>"
            ]
          },
          "metadata": {},
          "execution_count": 16
        },
        {
          "output_type": "display_data",
          "data": {
            "text/plain": [
              "<Figure size 720x720 with 1 Axes>"
            ],
            "image/png": "[encoded data removed]"
          },
          "metadata": {
            "needs_background": "light"
          }
        }
      ]
    },
    {
      "cell_type": "code",
      "source": [
        "plt.figure(figsize=(10, 10))\n",
        "plt.imshow(images[50].int())"
      ],
      "metadata": {
        "colab": {
          "base_uri": "https://localhost:8080/",
          "height": 612
        },
        "id": "oBFYZuNXOH4Z",
        "outputId": "d439c57f-92de-47c2-ff39-65e0c6bc0108"
      },
      "execution_count": null,
      "outputs": [
        {
          "output_type": "execute_result",
          "data": {
            "text/plain": [
              "<matplotlib.image.AxesImage at 0x7f055ac1b130>"
            ]
          },
          "metadata": {},
          "execution_count": 18
        },
        {
          "output_type": "display_data",
          "data": {
            "text/plain": [
              "<Figure size 720x720 with 1 Axes>"
            ],
            "image/png": "[encoded data removed]"
          },
          "metadata": {
            "needs_background": "light"
          }
        }
      ]
    },
    {
      "cell_type": "markdown",
      "source": [
        "#### Ответ 3:"
      ],
      "metadata": {
        "id": "4vOZBIYaCP8L"
      }
    },
    {
      "cell_type": "code",
      "source": [
        "''' m = images.float().mean((-4)) '''\n",
        "m = images.float().mean((-4))#\n",
        "m = torch.mean(images.float(), dim=0)\n",
        "plt.figure(figsize=(10,10))\n",
        "plt.imshow((m*70).int())\n",
        "print(m.shape)\n",
        "plt.show()"
      ],
      "metadata": {
        "colab": {
          "base_uri": "https://localhost:8080/",
          "height": 612
        },
        "id": "IMoRmVuoB3Fz",
        "outputId": "d630f24e-24b0-40f7-e9ce-3de507c21083"
      },
      "execution_count": null,
      "outputs": [
        {
          "output_type": "stream",
          "name": "stdout",
          "text": [
            "torch.Size([200, 200, 3])\n"
          ]
        },
        {
          "output_type": "display_data",
          "data": {
            "text/plain": [
              "<Figure size 720x720 with 1 Axes>"
            ],
            "image/png": "[encoded data removed]"
          },
          "metadata": {
            "needs_background": "light"
          }
        }
      ]
    },
    {
      "cell_type": "markdown",
      "metadata": {
        "id": "oQnhq5ZdYKCu"
      },
      "source": [
        "### Задача 4"
      ]
    },
    {
      "cell_type": "markdown",
      "metadata": {
        "id": "UB95BhgTYKCu"
      },
      "source": [
        "- В Colab нажмите в меню сверху: `Runtime` -> `Change Runtime Type` -> `GPU`, где изначально стоит `None` (`Среда выполнение` - `Сменить среду выполнения`)\n",
        "- Объявите тензор `a` размера (2, 3, 4) и тензор `b` размера (1, 8, 3) на GPU, иницилизируйте их случайно равномерно (`.uniform_()`)\n",
        "- Затем измените форму тензора `b`, чтобы она совпадала с формой тензора `a`, получите тензор `c`  \n",
        "- Переместите `c` на CPU, переместите `a` на CPU  \n",
        "- Оберните их в `Variable()`\n",
        "- Объявите тензор `L = torch.mean((c - a) `**` 2)` и посчитайте градиент `L` по `c` ( то есть $\\frac{\\partial{L}}{\\partial{c}})$\n",
        "- Выведите градиент `L` по `c`"
      ]
    },
    {
      "cell_type": "code",
      "metadata": {
        "id": "WESOm5TCYKCv",
        "colab": {
          "base_uri": "https://localhost:8080/"
        },
        "outputId": "b9d532ab-99df-456b-dc16-694f1d41ac2f"
      },
      "source": [
        "cpu = torch.device('cpu')\n",
        "gpu = torch.device('cuda:0' if torch.cuda.is_available() else 'cpu')\n",
        "\n",
        "a = torch.zeros((2,3,4), device=gpu)\n",
        "b = torch.zeros((1,8,3), device=gpu)\n",
        "\n",
        "a.uniform_()\n",
        "b.uniform_()\n",
        "print(a)\n",
        "print(b)"
      ],
      "execution_count": null,
      "outputs": [
        {
          "output_type": "stream",
          "name": "stdout",
          "text": [
            "tensor([[[0.2269, 0.3921, 0.3754, 0.1763],\n",
            "         [0.6301, 0.7063, 0.2716, 0.5314],\n",
            "         [0.7821, 0.3415, 0.5247, 0.0201]],\n",
            "\n",
            "        [[0.1277, 0.8034, 0.1298, 0.6365],\n",
            "         [0.1689, 0.3049, 0.6935, 0.5481],\n",
            "         [0.6471, 0.5920, 0.3825, 0.7900]]])\n",
            "tensor([[[0.6506, 0.9218, 0.7508],\n",
            "         [0.4339, 0.1837, 0.3038],\n",
            "         [0.6109, 0.6788, 0.0256],\n",
            "         [0.9397, 0.7662, 0.8259],\n",
            "         [0.0343, 0.8384, 0.5431],\n",
            "         [0.4844, 0.5271, 0.3217],\n",
            "         [0.4547, 0.5710, 0.9621],\n",
            "         [0.4486, 0.7186, 0.5684]]])\n"
          ]
        }
      ]
    },
    {
      "cell_type": "code",
      "source": [
        "c = b.reshape(a.shape)\n",
        "print(c)"
      ],
      "metadata": {
        "colab": {
          "base_uri": "https://localhost:8080/"
        },
        "id": "ec3ZrHRUKPE2",
        "outputId": "d5481b82-509f-4f3c-cb95-92156a978fbe"
      },
      "execution_count": null,
      "outputs": [
        {
          "output_type": "stream",
          "name": "stdout",
          "text": [
            "tensor([[[0.6506, 0.9218, 0.7508, 0.4339],\n",
            "         [0.1837, 0.3038, 0.6109, 0.6788],\n",
            "         [0.0256, 0.9397, 0.7662, 0.8259]],\n",
            "\n",
            "        [[0.0343, 0.8384, 0.5431, 0.4844],\n",
            "         [0.5271, 0.3217, 0.4547, 0.5710],\n",
            "         [0.9621, 0.4486, 0.7186, 0.5684]]])\n"
          ]
        }
      ]
    },
    {
      "cell_type": "code",
      "source": [
        "c.to(cpu)\n",
        "a.to(cpu)"
      ],
      "metadata": {
        "colab": {
          "base_uri": "https://localhost:8080/"
        },
        "id": "YcayMutjKfLz",
        "outputId": "eac53378-7fa7-469f-c899-4559b4bcdb8c"
      },
      "execution_count": null,
      "outputs": [
        {
          "output_type": "execute_result",
          "data": {
            "text/plain": [
              "tensor([[[0.2269, 0.3921, 0.3754, 0.1763],\n",
              "         [0.6301, 0.7063, 0.2716, 0.5314],\n",
              "         [0.7821, 0.3415, 0.5247, 0.0201]],\n",
              "\n",
              "        [[0.1277, 0.8034, 0.1298, 0.6365],\n",
              "         [0.1689, 0.3049, 0.6935, 0.5481],\n",
              "         [0.6471, 0.5920, 0.3825, 0.7900]]])"
            ]
          },
          "metadata": {},
          "execution_count": 47
        }
      ]
    },
    {
      "cell_type": "code",
      "source": [
        "a_v = torch.autograd.Variable(a)\n",
        "c_v = torch.autograd.Variable(c)"
      ],
      "metadata": {
        "id": "UHif50WKO3fa"
      },
      "execution_count": null,
      "outputs": []
    },
    {
      "cell_type": "code",
      "source": [
        "# если false считается как константа, иначе - по ней считается градиент\n",
        "# в нашем случае gL/gc - значит считаем по c, считая вторую переменную константой\n",
        "a_v.requires_grad = False\n",
        "c_v.requires_grad = True\n",
        "# запишем функцию L\n",
        "L = torch.mean((c_v - a_v)**2)\n",
        "# запоминание вычислений графа (grad считается по графу)\n",
        "L.retain_grad()\n",
        "print(L)\n",
        "\n",
        "L.backward()\n",
        "print(a_v.grad)\n",
        "print(c_v.grad)\n",
        "# поскольку мы запомнили шаги для узла L, то мы можем вывести значение градиента\n",
        "print(L.grad.item())"
      ],
      "metadata": {
        "colab": {
          "base_uri": "https://localhost:8080/"
        },
        "id": "ldloplSCSm_G",
        "outputId": "e681822a-3802-454f-a20a-ccdf32043606"
      },
      "execution_count": null,
      "outputs": [
        {
          "output_type": "stream",
          "name": "stdout",
          "text": [
            "tensor(0.1448, grad_fn=<MeanBackward0>)\n",
            "None\n",
            "tensor([[[ 0.0353,  0.0441,  0.0313,  0.0215],\n",
            "         [-0.0372, -0.0335,  0.0283,  0.0123],\n",
            "         [-0.0630,  0.0499,  0.0201,  0.0671]],\n",
            "\n",
            "        [[-0.0078,  0.0029,  0.0344, -0.0127],\n",
            "         [ 0.0299,  0.0014, -0.0199,  0.0019],\n",
            "         [ 0.0262, -0.0119,  0.0280, -0.0185]]])\n",
            "1.0\n"
          ]
        }
      ]
    },
    {
      "cell_type": "code",
      "source": [
        "print(L.grad)"
      ],
      "metadata": {
        "colab": {
          "base_uri": "https://localhost:8080/"
        },
        "id": "f953NjUmVU2h",
        "outputId": "76b3d00d-90ca-4ab6-c9a1-a88c3ad08eeb"
      },
      "execution_count": null,
      "outputs": [
        {
          "output_type": "stream",
          "name": "stdout",
          "text": [
            "tensor(1.)\n"
          ]
        }
      ]
    }
  ]
}